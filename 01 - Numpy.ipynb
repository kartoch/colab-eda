{
  "nbformat": 4,
  "nbformat_minor": 0,
  "metadata": {
    "kernelspec": {
      "display_name": "Python 3",
      "language": "python",
      "name": "python3"
    },
    "language_info": {
      "codemirror_mode": {
        "name": "ipython",
        "version": 3
      },
      "file_extension": ".py",
      "mimetype": "text/x-python",
      "name": "python",
      "nbconvert_exporter": "python",
      "pygments_lexer": "ipython3",
      "version": "3.6.3"
    },
    "colab": {
      "name": "01 - Numpy.ipynb",
      "provenance": [],
      "include_colab_link": true
    }
  },
  "cells": [
    {
      "cell_type": "markdown",
      "metadata": {
        "id": "view-in-github",
        "colab_type": "text"
      },
      "source": [
        "<a href=\"https://colab.research.google.com/github/kartoch/colab-eda/blob/master/01%20-%20Numpy.ipynb\" target=\"_parent\"><img src=\"https://colab.research.google.com/assets/colab-badge.svg\" alt=\"Open In Colab\"/></a>"
      ]
    },
    {
      "cell_type": "markdown",
      "metadata": {
        "id": "649h-WtWVn7e",
        "colab_type": "text"
      },
      "source": [
        "# Sheet 1: Numpy"
      ]
    },
    {
      "cell_type": "markdown",
      "metadata": {
        "id": "3xsANhiuVn7l",
        "colab_type": "text"
      },
      "source": [
        "## Python"
      ]
    },
    {
      "cell_type": "code",
      "metadata": {
        "id": "xiClb323Vn7u",
        "colab_type": "code",
        "colab": {}
      },
      "source": [
        "a=3"
      ],
      "execution_count": 0,
      "outputs": []
    },
    {
      "cell_type": "code",
      "metadata": {
        "id": "pywe17oyVn7_",
        "colab_type": "code",
        "outputId": "549faad9-183d-4632-c5ae-653fce7e92c5",
        "colab": {}
      },
      "source": [
        "a"
      ],
      "execution_count": 0,
      "outputs": [
        {
          "output_type": "execute_result",
          "data": {
            "text/plain": [
              "3"
            ]
          },
          "metadata": {
            "tags": []
          },
          "execution_count": 2
        }
      ]
    },
    {
      "cell_type": "code",
      "metadata": {
        "id": "m2T3JKFjVn8N",
        "colab_type": "code",
        "colab": {}
      },
      "source": [
        "a=5"
      ],
      "execution_count": 0,
      "outputs": []
    },
    {
      "cell_type": "code",
      "metadata": {
        "id": "4bztQSY0Vn8a",
        "colab_type": "code",
        "outputId": "d0c140ee-45d7-4a0a-cfaf-b3a5cce16c47",
        "colab": {}
      },
      "source": [
        "a"
      ],
      "execution_count": 0,
      "outputs": [
        {
          "output_type": "execute_result",
          "data": {
            "text/plain": [
              "5"
            ]
          },
          "metadata": {
            "tags": []
          },
          "execution_count": 4
        }
      ]
    },
    {
      "cell_type": "markdown",
      "metadata": {
        "id": "z6AGFaYfVn8l",
        "colab_type": "text"
      },
      "source": [
        "## Jupyter \n",
        "**azpodkazpokdpoazazdp** ojdzapda *uidhazidaz* \n",
        "# un titre\n",
        "## un sous-titre\n",
        "[http://www.google.fr](un lien vers google)"
      ]
    },
    {
      "cell_type": "markdown",
      "metadata": {
        "id": "XABq4ekJVn8p",
        "colab_type": "text"
      },
      "source": [
        "## Numpy BS Python"
      ]
    },
    {
      "cell_type": "code",
      "metadata": {
        "id": "CEZL8lOiVn8s",
        "colab_type": "code",
        "colab": {}
      },
      "source": [
        "def my_funct():\n",
        "    \"\"\" \n",
        "    c'est la méthode A\n",
        "    \"\"\"\n",
        "    x = 0\n",
        "    y = []\n",
        "    # je commence la boucle\n",
        "    for i in range(1000):\n",
        "        y.append(i)\n",
        "    for i in y:\n",
        "        x += i\n",
        "    return x"
      ],
      "execution_count": 0,
      "outputs": []
    },
    {
      "cell_type": "code",
      "metadata": {
        "id": "YTLpugnRVn81",
        "colab_type": "code",
        "outputId": "decc4c73-59c9-4d8d-b04f-acf57d37dfc7",
        "colab": {}
      },
      "source": [
        "%time my_funct()"
      ],
      "execution_count": 0,
      "outputs": [
        {
          "output_type": "stream",
          "text": [
            "CPU times: user 0 ns, sys: 0 ns, total: 0 ns\n",
            "Wall time: 265 µs\n"
          ],
          "name": "stdout"
        },
        {
          "output_type": "execute_result",
          "data": {
            "text/plain": [
              "499500"
            ]
          },
          "metadata": {
            "tags": []
          },
          "execution_count": 6
        }
      ]
    },
    {
      "cell_type": "code",
      "metadata": {
        "id": "dQL7kUbcVn9C",
        "colab_type": "code",
        "outputId": "801937a5-9229-41b9-8fa4-c3fd24342186",
        "colab": {}
      },
      "source": [
        "%timeit my_funct()"
      ],
      "execution_count": 0,
      "outputs": [
        {
          "output_type": "stream",
          "text": [
            "107 µs ± 3.3 µs per loop (mean ± std. dev. of 7 runs, 10000 loops each)\n"
          ],
          "name": "stdout"
        }
      ]
    },
    {
      "cell_type": "code",
      "metadata": {
        "id": "5FoJX6FNVn9N",
        "colab_type": "code",
        "colab": {}
      },
      "source": [
        "import numpy as np"
      ],
      "execution_count": 0,
      "outputs": []
    },
    {
      "cell_type": "code",
      "metadata": {
        "id": "hLVhpz86Vn9W",
        "colab_type": "code",
        "outputId": "9fabda50-1c73-4d91-cc19-301040ae1789",
        "colab": {}
      },
      "source": [
        "%timeit np.arange(1000).sum()"
      ],
      "execution_count": 0,
      "outputs": [
        {
          "output_type": "stream",
          "text": [
            "3.99 µs ± 303 ns per loop (mean ± std. dev. of 7 runs, 100000 loops each)\n"
          ],
          "name": "stdout"
        }
      ]
    },
    {
      "cell_type": "markdown",
      "metadata": {
        "id": "q2Rm5vrfVn9i",
        "colab_type": "text"
      },
      "source": [
        "# Create numpy array and matrix"
      ]
    },
    {
      "cell_type": "code",
      "metadata": {
        "id": "0IXdDfI5Vn9l",
        "colab_type": "code",
        "outputId": "67022365-4fab-48c9-c204-ef0064614218",
        "colab": {}
      },
      "source": [
        "np.zeros(5)"
      ],
      "execution_count": 0,
      "outputs": [
        {
          "output_type": "execute_result",
          "data": {
            "text/plain": [
              "array([ 0.,  0.,  0.,  0.,  0.])"
            ]
          },
          "metadata": {
            "tags": []
          },
          "execution_count": 10
        }
      ]
    },
    {
      "cell_type": "code",
      "metadata": {
        "id": "CgGjme6TVn9v",
        "colab_type": "code",
        "outputId": "f3584dfa-008c-42e0-b8e7-0e51b0685e17",
        "colab": {}
      },
      "source": [
        "np.zeros(5,dtype=np.int64)"
      ],
      "execution_count": 0,
      "outputs": [
        {
          "output_type": "execute_result",
          "data": {
            "text/plain": [
              "array([0, 0, 0, 0, 0])"
            ]
          },
          "metadata": {
            "tags": []
          },
          "execution_count": 11
        }
      ]
    },
    {
      "cell_type": "code",
      "metadata": {
        "id": "OVFIO8DNVn99",
        "colab_type": "code",
        "outputId": "eae4909b-23de-461c-b4d4-88d33264127f",
        "colab": {}
      },
      "source": [
        "np.zeros(5,dtype=np.int8)"
      ],
      "execution_count": 0,
      "outputs": [
        {
          "output_type": "execute_result",
          "data": {
            "text/plain": [
              "array([0, 0, 0, 0, 0], dtype=int8)"
            ]
          },
          "metadata": {
            "tags": []
          },
          "execution_count": 12
        }
      ]
    },
    {
      "cell_type": "code",
      "metadata": {
        "id": "PXLuHTKyVn-J",
        "colab_type": "code",
        "colab": {}
      },
      "source": [
        "b = np.arange(20, dtype=np.int16)"
      ],
      "execution_count": 0,
      "outputs": []
    },
    {
      "cell_type": "code",
      "metadata": {
        "id": "fr1SVnh3Vn-T",
        "colab_type": "code",
        "outputId": "86870687-f4a8-4e95-bfb4-1488a5e65bbe",
        "colab": {}
      },
      "source": [
        "b"
      ],
      "execution_count": 0,
      "outputs": [
        {
          "output_type": "execute_result",
          "data": {
            "text/plain": [
              "array([ 0,  1,  2,  3,  4,  5,  6,  7,  8,  9, 10, 11, 12, 13, 14, 15, 16,\n",
              "       17, 18, 19], dtype=int16)"
            ]
          },
          "metadata": {
            "tags": []
          },
          "execution_count": 14
        }
      ]
    },
    {
      "cell_type": "code",
      "metadata": {
        "id": "OZquaojqVn-a",
        "colab_type": "code",
        "outputId": "bffbe844-1243-4a91-8949-5353e88099f4",
        "colab": {}
      },
      "source": [
        "b.shape"
      ],
      "execution_count": 0,
      "outputs": [
        {
          "output_type": "execute_result",
          "data": {
            "text/plain": [
              "(20,)"
            ]
          },
          "metadata": {
            "tags": []
          },
          "execution_count": 15
        }
      ]
    },
    {
      "cell_type": "code",
      "metadata": {
        "id": "Q0k9SubPVn-i",
        "colab_type": "code",
        "outputId": "e8e69178-ecc9-4540-accd-5d599eee5477",
        "colab": {}
      },
      "source": [
        "len(b)"
      ],
      "execution_count": 0,
      "outputs": [
        {
          "output_type": "execute_result",
          "data": {
            "text/plain": [
              "20"
            ]
          },
          "metadata": {
            "tags": []
          },
          "execution_count": 16
        }
      ]
    },
    {
      "cell_type": "code",
      "metadata": {
        "id": "JRJq63Z2Vn-q",
        "colab_type": "code",
        "outputId": "d14c9a97-f96d-4eb0-cea0-bb7258c16684",
        "colab": {}
      },
      "source": [
        "b.size"
      ],
      "execution_count": 0,
      "outputs": [
        {
          "output_type": "execute_result",
          "data": {
            "text/plain": [
              "20"
            ]
          },
          "metadata": {
            "tags": []
          },
          "execution_count": 17
        }
      ]
    },
    {
      "cell_type": "code",
      "metadata": {
        "id": "GYA3rtwUVn-z",
        "colab_type": "code",
        "outputId": "4e7e71b6-ce99-4cf2-9588-ba8fd7e2e405",
        "colab": {}
      },
      "source": [
        "b.ndim"
      ],
      "execution_count": 0,
      "outputs": [
        {
          "output_type": "execute_result",
          "data": {
            "text/plain": [
              "1"
            ]
          },
          "metadata": {
            "tags": []
          },
          "execution_count": 18
        }
      ]
    },
    {
      "cell_type": "code",
      "metadata": {
        "id": "VQfILDbFVn-7",
        "colab_type": "code",
        "outputId": "67300cd3-250c-4d66-b8bc-0e7ff0da54f1",
        "colab": {}
      },
      "source": [
        "b.dtype"
      ],
      "execution_count": 0,
      "outputs": [
        {
          "output_type": "execute_result",
          "data": {
            "text/plain": [
              "dtype('int16')"
            ]
          },
          "metadata": {
            "tags": []
          },
          "execution_count": 19
        }
      ]
    },
    {
      "cell_type": "code",
      "metadata": {
        "id": "VZyrxnPNVn_E",
        "colab_type": "code",
        "outputId": "a5b1d21f-b01b-4713-f724-7b9d9f6263e9",
        "colab": {}
      },
      "source": [
        "b.strides"
      ],
      "execution_count": 0,
      "outputs": [
        {
          "output_type": "execute_result",
          "data": {
            "text/plain": [
              "(2,)"
            ]
          },
          "metadata": {
            "tags": []
          },
          "execution_count": 20
        }
      ]
    },
    {
      "cell_type": "code",
      "metadata": {
        "id": "5PjK2Mg6Vn_M",
        "colab_type": "code",
        "colab": {}
      },
      "source": [
        "c = np.arange(27).reshape((3,3,3))"
      ],
      "execution_count": 0,
      "outputs": []
    },
    {
      "cell_type": "code",
      "metadata": {
        "id": "Agl9IHDYVn_U",
        "colab_type": "code",
        "outputId": "e488dde6-8193-40d2-b74a-a955a3520348",
        "colab": {}
      },
      "source": [
        "c.strides"
      ],
      "execution_count": 0,
      "outputs": [
        {
          "output_type": "execute_result",
          "data": {
            "text/plain": [
              "(72, 24, 8)"
            ]
          },
          "metadata": {
            "tags": []
          },
          "execution_count": 22
        }
      ]
    },
    {
      "cell_type": "markdown",
      "metadata": {
        "id": "K17GuA8QVn_b",
        "colab_type": "text"
      },
      "source": [
        "## Access"
      ]
    },
    {
      "cell_type": "code",
      "metadata": {
        "id": "-dvNgksEVn_d",
        "colab_type": "code",
        "colab": {}
      },
      "source": [
        "c[2] = -5"
      ],
      "execution_count": 0,
      "outputs": []
    },
    {
      "cell_type": "code",
      "metadata": {
        "id": "m4uZWTHyVn_j",
        "colab_type": "code",
        "outputId": "99d5cada-8359-421a-82ce-4147c90cd2f2",
        "colab": {}
      },
      "source": [
        "c"
      ],
      "execution_count": 0,
      "outputs": [
        {
          "output_type": "execute_result",
          "data": {
            "text/plain": [
              "array([[[ 0,  1,  2],\n",
              "        [ 3,  4,  5],\n",
              "        [ 6,  7,  8]],\n",
              "\n",
              "       [[ 9, 10, 11],\n",
              "        [12, 13, 14],\n",
              "        [15, 16, 17]],\n",
              "\n",
              "       [[-5, -5, -5],\n",
              "        [-5, -5, -5],\n",
              "        [-5, -5, -5]]])"
            ]
          },
          "metadata": {
            "tags": []
          },
          "execution_count": 24
        }
      ]
    },
    {
      "cell_type": "code",
      "metadata": {
        "collapsed": true,
        "id": "IoghFpzJVn_r",
        "colab_type": "code",
        "colab": {}
      },
      "source": [
        "c[2,1] = - 7"
      ],
      "execution_count": 0,
      "outputs": []
    },
    {
      "cell_type": "code",
      "metadata": {
        "id": "H6OIqfcTVn_w",
        "colab_type": "code",
        "outputId": "ffebddb2-393c-4cad-a910-0370b9e27c6f",
        "colab": {}
      },
      "source": [
        "c"
      ],
      "execution_count": 0,
      "outputs": [
        {
          "output_type": "execute_result",
          "data": {
            "text/plain": [
              "array([[[ 0,  1,  2],\n",
              "        [ 3,  4,  5],\n",
              "        [ 6,  7,  8]],\n",
              "\n",
              "       [[ 9, 10, 11],\n",
              "        [12, 13, 14],\n",
              "        [15, 16, 17]],\n",
              "\n",
              "       [[-5, -5, -5],\n",
              "        [-7, -7, -7],\n",
              "        [-5, -5, -5]]])"
            ]
          },
          "metadata": {
            "tags": []
          },
          "execution_count": 26
        }
      ]
    },
    {
      "cell_type": "code",
      "metadata": {
        "collapsed": true,
        "id": "O3k66RUgVn_3",
        "colab_type": "code",
        "colab": {}
      },
      "source": [
        "c[0,0,1] = - 10"
      ],
      "execution_count": 0,
      "outputs": []
    },
    {
      "cell_type": "code",
      "metadata": {
        "id": "soMxdPIzVoAA",
        "colab_type": "code",
        "outputId": "2205090e-780a-46a2-cba0-57c8fb1946c1",
        "colab": {}
      },
      "source": [
        "c"
      ],
      "execution_count": 0,
      "outputs": [
        {
          "output_type": "execute_result",
          "data": {
            "text/plain": [
              "array([[[  0, -10,   2],\n",
              "        [  3,   4,   5],\n",
              "        [  6,   7,   8]],\n",
              "\n",
              "       [[  9,  10,  11],\n",
              "        [ 12,  13,  14],\n",
              "        [ 15,  16,  17]],\n",
              "\n",
              "       [[ -5,  -5,  -5],\n",
              "        [ -7,  -7,  -7],\n",
              "        [ -5,  -5,  -5]]])"
            ]
          },
          "metadata": {
            "tags": []
          },
          "execution_count": 28
        }
      ]
    },
    {
      "cell_type": "markdown",
      "metadata": {
        "id": "8Jvz6PHFVoAG",
        "colab_type": "text"
      },
      "source": [
        "## Access with ::"
      ]
    },
    {
      "cell_type": "code",
      "metadata": {
        "id": "UNP1HPdoVoAI",
        "colab_type": "code",
        "outputId": "688b6f67-9e5d-445b-8464-b2c9f300df05",
        "colab": {}
      },
      "source": [
        "e = np.arange(10)\n",
        "e[3::]"
      ],
      "execution_count": 0,
      "outputs": [
        {
          "output_type": "execute_result",
          "data": {
            "text/plain": [
              "array([3, 4, 5, 6, 7, 8, 9])"
            ]
          },
          "metadata": {
            "tags": []
          },
          "execution_count": 30
        }
      ]
    },
    {
      "cell_type": "code",
      "metadata": {
        "id": "fhkwDhcuVoAO",
        "colab_type": "code",
        "outputId": "d872da10-428a-4a63-dcb7-05df605a7c37",
        "colab": {}
      },
      "source": [
        "e[3:]"
      ],
      "execution_count": 0,
      "outputs": [
        {
          "output_type": "execute_result",
          "data": {
            "text/plain": [
              "array([3, 4, 5, 6, 7, 8, 9])"
            ]
          },
          "metadata": {
            "tags": []
          },
          "execution_count": 31
        }
      ]
    },
    {
      "cell_type": "code",
      "metadata": {
        "id": "NtAqMhj6VoAV",
        "colab_type": "code",
        "outputId": "2fa25684-7513-447b-95f1-7be1a967407a",
        "colab": {}
      },
      "source": [
        "e[:7:]"
      ],
      "execution_count": 0,
      "outputs": [
        {
          "output_type": "execute_result",
          "data": {
            "text/plain": [
              "array([0, 1, 2, 3, 4, 5, 6])"
            ]
          },
          "metadata": {
            "tags": []
          },
          "execution_count": 32
        }
      ]
    },
    {
      "cell_type": "code",
      "metadata": {
        "id": "ZoLKVc08VoAa",
        "colab_type": "code",
        "outputId": "0379c46c-3c4a-48ba-df02-5f81fd09b237",
        "colab": {}
      },
      "source": [
        "e[:7]"
      ],
      "execution_count": 0,
      "outputs": [
        {
          "output_type": "execute_result",
          "data": {
            "text/plain": [
              "array([0, 1, 2, 3, 4, 5, 6])"
            ]
          },
          "metadata": {
            "tags": []
          },
          "execution_count": 33
        }
      ]
    },
    {
      "cell_type": "code",
      "metadata": {
        "id": "p844GNvNVoAg",
        "colab_type": "code",
        "outputId": "c63a61c0-d2a6-4e4f-c93a-7381363c1409",
        "colab": {}
      },
      "source": [
        "e[::2]"
      ],
      "execution_count": 0,
      "outputs": [
        {
          "output_type": "execute_result",
          "data": {
            "text/plain": [
              "array([0, 2, 4, 6, 8])"
            ]
          },
          "metadata": {
            "tags": []
          },
          "execution_count": 34
        }
      ]
    },
    {
      "cell_type": "code",
      "metadata": {
        "id": "Y6b6ioIqVoAl",
        "colab_type": "code",
        "outputId": "e7fe58c0-4383-4346-cc37-5803ccf66067",
        "colab": {}
      },
      "source": [
        "e[-3::]"
      ],
      "execution_count": 0,
      "outputs": [
        {
          "output_type": "execute_result",
          "data": {
            "text/plain": [
              "array([7, 8, 9])"
            ]
          },
          "metadata": {
            "tags": []
          },
          "execution_count": 35
        }
      ]
    },
    {
      "cell_type": "markdown",
      "metadata": {
        "id": "ht6XRAi9VoAq",
        "colab_type": "text"
      },
      "source": [
        "## Access with boolean array"
      ]
    },
    {
      "cell_type": "code",
      "metadata": {
        "id": "ll4e0uVYVoAs",
        "colab_type": "code",
        "outputId": "ed00f5c2-f031-4303-89ba-123e43081781",
        "colab": {}
      },
      "source": [
        "g = np.random.randint(0,2,64)\n",
        "g[g == 1] = 3\n",
        "g"
      ],
      "execution_count": 0,
      "outputs": [
        {
          "output_type": "execute_result",
          "data": {
            "text/plain": [
              "array([0, 3, 3, 0, 0, 3, 3, 3, 0, 3, 3, 3, 0, 3, 0, 3, 0, 0, 3, 3, 3, 0, 3,\n",
              "       3, 0, 0, 0, 3, 0, 0, 0, 3, 3, 3, 0, 0, 3, 0, 3, 3, 3, 3, 0, 3, 3, 0,\n",
              "       3, 0, 3, 0, 0, 0, 0, 0, 3, 0, 0, 0, 0, 3, 3, 0, 3, 3])"
            ]
          },
          "metadata": {
            "tags": []
          },
          "execution_count": 41
        }
      ]
    },
    {
      "cell_type": "code",
      "metadata": {
        "id": "4gbA-VXyVoA3",
        "colab_type": "code",
        "outputId": "a4f74bd7-c891-4c91-f07f-15d8ddf41d08",
        "colab": {}
      },
      "source": [
        "h1 = np.array([False,True],dtype=np.bool)\n",
        "h2 = np.array([True,True],dtype=np.bool)\n",
        "h1 & h2"
      ],
      "execution_count": 0,
      "outputs": [
        {
          "output_type": "execute_result",
          "data": {
            "text/plain": [
              "array([False,  True], dtype=bool)"
            ]
          },
          "metadata": {
            "tags": []
          },
          "execution_count": 42
        }
      ]
    },
    {
      "cell_type": "code",
      "metadata": {
        "id": "Wztxx78BVoA8",
        "colab_type": "code",
        "outputId": "a076bffb-af95-48f1-e2e1-6df297f0a2e9",
        "colab": {}
      },
      "source": [
        "np.array([0,2,3]).any()"
      ],
      "execution_count": 0,
      "outputs": [
        {
          "output_type": "execute_result",
          "data": {
            "text/plain": [
              "True"
            ]
          },
          "metadata": {
            "tags": []
          },
          "execution_count": 117
        }
      ]
    },
    {
      "cell_type": "code",
      "metadata": {
        "id": "EbZf0sapVoA_",
        "colab_type": "code",
        "outputId": "a54f907b-d6dc-474f-8dc1-59b187449036",
        "colab": {}
      },
      "source": [
        "np.array([0,0]).any()"
      ],
      "execution_count": 0,
      "outputs": [
        {
          "output_type": "execute_result",
          "data": {
            "text/plain": [
              "False"
            ]
          },
          "metadata": {
            "tags": []
          },
          "execution_count": 119
        }
      ]
    },
    {
      "cell_type": "markdown",
      "metadata": {
        "id": "RphBnyYvVoBH",
        "colab_type": "text"
      },
      "source": [
        "## Matrix operations"
      ]
    },
    {
      "cell_type": "code",
      "metadata": {
        "id": "qZ9XtTh8VoBJ",
        "colab_type": "code",
        "outputId": "64ded9ab-fa53-4fe6-f256-1455a3f90668",
        "colab": {}
      },
      "source": [
        "np.arange(4).reshape(2,2) + np.ones((2,2))"
      ],
      "execution_count": 0,
      "outputs": [
        {
          "output_type": "execute_result",
          "data": {
            "text/plain": [
              "array([[ 1.,  2.],\n",
              "       [ 3.,  4.]])"
            ]
          },
          "metadata": {
            "tags": []
          },
          "execution_count": 44
        }
      ]
    },
    {
      "cell_type": "code",
      "metadata": {
        "id": "gSiyh9dQVoBQ",
        "colab_type": "code",
        "outputId": "54bfbd42-4a82-4ed3-e982-6c60a8de6e6f",
        "colab": {}
      },
      "source": [
        "np.arange(4).reshape(2,2) + np.ones((2))"
      ],
      "execution_count": 0,
      "outputs": [
        {
          "output_type": "execute_result",
          "data": {
            "text/plain": [
              "array([[ 1.,  2.],\n",
              "       [ 3.,  4.]])"
            ]
          },
          "metadata": {
            "tags": []
          },
          "execution_count": 45
        }
      ]
    },
    {
      "cell_type": "code",
      "metadata": {
        "id": "LlkZisRiVoBV",
        "colab_type": "code",
        "outputId": "64da6b19-c141-462e-820b-d572168d0688",
        "colab": {}
      },
      "source": [
        "np.arange(4).reshape(2,2) * np.arange(4).reshape(2,2)"
      ],
      "execution_count": 0,
      "outputs": [
        {
          "output_type": "execute_result",
          "data": {
            "text/plain": [
              "array([[0, 1],\n",
              "       [4, 9]])"
            ]
          },
          "metadata": {
            "tags": []
          },
          "execution_count": 46
        }
      ]
    },
    {
      "cell_type": "code",
      "metadata": {
        "id": "RQ_5Hjz0VoBc",
        "colab_type": "code",
        "outputId": "35d4d1d7-a07d-4805-d961-7a2b2fb6e41a",
        "colab": {}
      },
      "source": [
        "np.arange(4).reshape(2,2).dot(np.arange(4).reshape(2,2))"
      ],
      "execution_count": 0,
      "outputs": [
        {
          "output_type": "execute_result",
          "data": {
            "text/plain": [
              "array([[ 2,  3],\n",
              "       [ 6, 11]])"
            ]
          },
          "metadata": {
            "tags": []
          },
          "execution_count": 47
        }
      ]
    },
    {
      "cell_type": "code",
      "metadata": {
        "id": "DLKg-UTxVoBi",
        "colab_type": "code",
        "outputId": "06951aa5-c00c-4466-c607-506d51d84274",
        "colab": {}
      },
      "source": [
        "np.arange(4).reshape(2,2) * np.arange(2).reshape(1,2)"
      ],
      "execution_count": 0,
      "outputs": [
        {
          "output_type": "execute_result",
          "data": {
            "text/plain": [
              "array([[0, 1],\n",
              "       [0, 3]])"
            ]
          },
          "metadata": {
            "tags": []
          },
          "execution_count": 48
        }
      ]
    },
    {
      "cell_type": "code",
      "metadata": {
        "id": "SKSdlAO6VoBo",
        "colab_type": "code",
        "outputId": "c0616419-7d0c-4456-ce57-7e72287e4b89",
        "colab": {}
      },
      "source": [
        "np.arange(4).reshape(2,2) * np.arange(2).reshape(2,1)"
      ],
      "execution_count": 0,
      "outputs": [
        {
          "output_type": "execute_result",
          "data": {
            "text/plain": [
              "array([[0, 0],\n",
              "       [2, 3]])"
            ]
          },
          "metadata": {
            "tags": []
          },
          "execution_count": 49
        }
      ]
    },
    {
      "cell_type": "markdown",
      "metadata": {
        "id": "T8_QMDtSVoBr",
        "colab_type": "text"
      },
      "source": [
        "## Access via axis"
      ]
    },
    {
      "cell_type": "code",
      "metadata": {
        "id": "uvGl-_HGVoBu",
        "colab_type": "code",
        "outputId": "1a2bafff-ac60-429c-bfc3-c064d20ee55c",
        "colab": {}
      },
      "source": [
        "np.arange(25).reshape(5,5).sum()"
      ],
      "execution_count": 0,
      "outputs": [
        {
          "output_type": "execute_result",
          "data": {
            "text/plain": [
              "300"
            ]
          },
          "metadata": {
            "tags": []
          },
          "execution_count": 51
        }
      ]
    },
    {
      "cell_type": "code",
      "metadata": {
        "id": "MUcqTpMYVoBy",
        "colab_type": "code",
        "outputId": "658bde86-afa8-4fb2-c1fa-da95c746979e",
        "colab": {}
      },
      "source": [
        "np.arange(25).reshape(5,5).sum(axis=0)"
      ],
      "execution_count": 0,
      "outputs": [
        {
          "output_type": "execute_result",
          "data": {
            "text/plain": [
              "array([50, 55, 60, 65, 70])"
            ]
          },
          "metadata": {
            "tags": []
          },
          "execution_count": 52
        }
      ]
    },
    {
      "cell_type": "code",
      "metadata": {
        "id": "XRIKEkJAVoB2",
        "colab_type": "code",
        "outputId": "d4704b93-f759-4645-9b9c-0283909356b8",
        "colab": {}
      },
      "source": [
        "np.arange(25).reshape(5,5).sum(axis=1)"
      ],
      "execution_count": 0,
      "outputs": [
        {
          "output_type": "execute_result",
          "data": {
            "text/plain": [
              "array([ 10,  35,  60,  85, 110])"
            ]
          },
          "metadata": {
            "tags": []
          },
          "execution_count": 53
        }
      ]
    },
    {
      "cell_type": "markdown",
      "metadata": {
        "id": "whG47tEaVoB6",
        "colab_type": "text"
      },
      "source": [
        "## Access via sublists"
      ]
    },
    {
      "cell_type": "code",
      "metadata": {
        "id": "DSu5twx2VoB8",
        "colab_type": "code",
        "outputId": "b3331e69-318a-4e2b-c356-ece5524d0067",
        "colab": {}
      },
      "source": [
        "np.arange(25).reshape(5,5)[[2,4]]"
      ],
      "execution_count": 0,
      "outputs": [
        {
          "output_type": "execute_result",
          "data": {
            "text/plain": [
              "array([[10, 11, 12, 13, 14],\n",
              "       [20, 21, 22, 23, 24]])"
            ]
          },
          "metadata": {
            "tags": []
          },
          "execution_count": 108
        }
      ]
    },
    {
      "cell_type": "markdown",
      "metadata": {
        "id": "_juYPUOQVoCA",
        "colab_type": "text"
      },
      "source": [
        "# Questions"
      ]
    },
    {
      "cell_type": "markdown",
      "metadata": {
        "id": "XsvbsOKBVoCB",
        "colab_type": "text"
      },
      "source": [
        "**Q:** Create a null vector of size 10 but the fifth value which is 1"
      ]
    },
    {
      "cell_type": "code",
      "metadata": {
        "id": "GMtLM51zVoCC",
        "colab_type": "code",
        "colab": {}
      },
      "source": [
        ""
      ],
      "execution_count": 0,
      "outputs": []
    },
    {
      "cell_type": "markdown",
      "metadata": {
        "id": "wntr8IaZVoCG",
        "colab_type": "text"
      },
      "source": [
        "**Q:** Reverse a vector (first element becomes last) "
      ]
    },
    {
      "cell_type": "code",
      "metadata": {
        "id": "k_f4T4_8VoCH",
        "colab_type": "code",
        "colab": {}
      },
      "source": [
        ""
      ],
      "execution_count": 0,
      "outputs": []
    },
    {
      "cell_type": "markdown",
      "metadata": {
        "id": "6bHy4unAVoCL",
        "colab_type": "text"
      },
      "source": [
        "**Q:** Create a 10x10 array with random values and find the minimum and maximum values "
      ]
    },
    {
      "cell_type": "code",
      "metadata": {
        "id": "KNqTZ82YVoCM",
        "colab_type": "code",
        "colab": {}
      },
      "source": [
        ""
      ],
      "execution_count": 0,
      "outputs": []
    },
    {
      "cell_type": "markdown",
      "metadata": {
        "id": "OliHqfEmVoCQ",
        "colab_type": "text"
      },
      "source": [
        "**Q:** Create a 10x10 array with random values and find the minimum and maximum values of each sub-matrix"
      ]
    },
    {
      "cell_type": "code",
      "metadata": {
        "id": "NlcgZN3FVoCR",
        "colab_type": "code",
        "colab": {}
      },
      "source": [
        ""
      ],
      "execution_count": 0,
      "outputs": []
    },
    {
      "cell_type": "markdown",
      "metadata": {
        "id": "XRW-MG7BVoCZ",
        "colab_type": "text"
      },
      "source": [
        "**Q:** Create a 2d array with 1 on the border and 0 inside"
      ]
    },
    {
      "cell_type": "code",
      "metadata": {
        "id": "lWDP4fN7VoCc",
        "colab_type": "code",
        "colab": {}
      },
      "source": [
        ""
      ],
      "execution_count": 0,
      "outputs": []
    },
    {
      "cell_type": "markdown",
      "metadata": {
        "id": "sVRLNncSVoCg",
        "colab_type": "text"
      },
      "source": [
        "**Q:** Create a 8x8 matrix and fill it with a checkerboard pattern"
      ]
    },
    {
      "cell_type": "code",
      "metadata": {
        "id": "KkQQC78LVoCh",
        "colab_type": "code",
        "colab": {}
      },
      "source": [
        ""
      ],
      "execution_count": 0,
      "outputs": []
    },
    {
      "cell_type": "markdown",
      "metadata": {
        "id": "glb1f7lhVoCk",
        "colab_type": "text"
      },
      "source": [
        "**Q:** Create a 8x8 matrix and fill it with a checkerboard pattern using [tile](https://docs.scipy.org/doc/numpy/reference/generated/numpy.tile.html)"
      ]
    },
    {
      "cell_type": "code",
      "metadata": {
        "id": "dpiNG6GcVoCl",
        "colab_type": "code",
        "colab": {}
      },
      "source": [
        ""
      ],
      "execution_count": 0,
      "outputs": []
    },
    {
      "cell_type": "markdown",
      "metadata": {
        "id": "Kq6k9TiUVoCo",
        "colab_type": "text"
      },
      "source": [
        "**Q:** Given a 1D array, negate all elements which are between 3 and 8, in place"
      ]
    },
    {
      "cell_type": "code",
      "metadata": {
        "id": "YR7f-bfrVoCp",
        "colab_type": "code",
        "colab": {}
      },
      "source": [
        ""
      ],
      "execution_count": 0,
      "outputs": []
    },
    {
      "cell_type": "markdown",
      "metadata": {
        "id": "4WjY0K6OVoCt",
        "colab_type": "text"
      },
      "source": [
        "**Q:** Create a 5x5 matrix with row values ranging from 0 to 4"
      ]
    },
    {
      "cell_type": "code",
      "metadata": {
        "id": "eexRsd_JVoCv",
        "colab_type": "code",
        "colab": {}
      },
      "source": [
        ""
      ],
      "execution_count": 0,
      "outputs": []
    },
    {
      "cell_type": "markdown",
      "metadata": {
        "id": "XFQpXJ3XVoCz",
        "colab_type": "text"
      },
      "source": [
        "**Q:** Subtract the mean of each row of a random matrix"
      ]
    },
    {
      "cell_type": "code",
      "metadata": {
        "id": "qhiP2UvHVoC1",
        "colab_type": "code",
        "colab": {}
      },
      "source": [
        ""
      ],
      "execution_count": 0,
      "outputs": []
    },
    {
      "cell_type": "markdown",
      "metadata": {
        "id": "5N-HpoygVoC4",
        "colab_type": "text"
      },
      "source": [
        "**Q:** How to find the most frequent value in an array?"
      ]
    },
    {
      "cell_type": "code",
      "metadata": {
        "id": "KDFvAlY7VoC5",
        "colab_type": "code",
        "colab": {}
      },
      "source": [
        ""
      ],
      "execution_count": 0,
      "outputs": []
    },
    {
      "cell_type": "markdown",
      "metadata": {
        "id": "4dtA1NNvVoC9",
        "colab_type": "text"
      },
      "source": [
        "**Q:** How to swap the second and the third rows of an 5x5 random matrix ?"
      ]
    },
    {
      "cell_type": "code",
      "metadata": {
        "id": "RStbG5EAVoC-",
        "colab_type": "code",
        "colab": {}
      },
      "source": [
        ""
      ],
      "execution_count": 0,
      "outputs": []
    },
    {
      "cell_type": "markdown",
      "metadata": {
        "id": "olZX5PHKVoDB",
        "colab_type": "text"
      },
      "source": [
        "**Q:** How to tell if a given 2D array has null columns?"
      ]
    },
    {
      "cell_type": "code",
      "metadata": {
        "id": "cGohXwiZVoDD",
        "colab_type": "code",
        "colab": {}
      },
      "source": [
        ""
      ],
      "execution_count": 0,
      "outputs": []
    }
  ]
}