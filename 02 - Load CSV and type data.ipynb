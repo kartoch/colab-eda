{
  "nbformat": 4,
  "nbformat_minor": 0,
  "metadata": {
    "colab": {
      "name": "02 - Load CSV and type data",
      "provenance": [],
      "authorship_tag": "ABX9TyNjDvGe9mUyuR7vr8OtMSzD",
      "include_colab_link": true
    },
    "kernelspec": {
      "name": "python3",
      "display_name": "Python 3"
    }
  },
  "cells": [
    {
      "cell_type": "markdown",
      "metadata": {
        "id": "view-in-github",
        "colab_type": "text"
      },
      "source": [
        "<a href=\"https://colab.research.google.com/github/kartoch/colab-eda/blob/master/02%20-%20Load%20CSV%20and%20type%20data.ipynb\" target=\"_parent\"><img src=\"https://colab.research.google.com/assets/colab-badge.svg\" alt=\"Open In Colab\"/></a>"
      ]
    },
    {
      "cell_type": "markdown",
      "metadata": {
        "id": "TV16GOkY0R6Z",
        "colab_type": "text"
      },
      "source": [
        "## Instructions\n",
        "\n",
        "This notebook is the second one, and has the task to load the zipped CSV from the first notebook, type the data in each dataframe and save them as CSV format. \n",
        "\n",
        "*Note*: it would be better to save it as Parquet or HDF, but the Pandas library does not implement `Int8`, `Int16`, `Int32`, etc.\n",
        "\n",
        "The code to handle the load and save from Google Cloud Storage (GCS) is included."
      ]
    },
    {
      "cell_type": "code",
      "metadata": {
        "id": "zrJFtLNM0Pcu",
        "colab_type": "code",
        "colab": {}
      },
      "source": [
        "from google.oauth2 import service_account\n",
        "from google.cloud.storage import client\n",
        "import io\n",
        "import pandas as pd\n",
        "from io import BytesIO\n",
        "import json\n",
        "import os.path\n",
        "import logging\n",
        "from zipfile import ZipFile"
      ],
      "execution_count": 0,
      "outputs": []
    },
    {
      "cell_type": "markdown",
      "metadata": {
        "id": "AtJLGjCz0t3p",
        "colab_type": "text"
      },
      "source": [
        "# Constants\n",
        "\n",
        "* `LOG_LEVEL` : log level used by the logging instance logger"
      ]
    },
    {
      "cell_type": "code",
      "metadata": {
        "id": "K3LkzfpI0mD8",
        "colab_type": "code",
        "colab": {}
      },
      "source": [
        "LOG_LEVEL = \"DEBUG\""
      ],
      "execution_count": 0,
      "outputs": []
    },
    {
      "cell_type": "code",
      "metadata": {
        "id": "1ll_ndk70mcX",
        "colab_type": "code",
        "colab": {}
      },
      "source": [
        "logging.basicConfig()\n",
        "logger = logging.getLogger()\n",
        "logger.setLevel(LOG_LEVEL)"
      ],
      "execution_count": 0,
      "outputs": []
    },
    {
      "cell_type": "markdown",
      "metadata": {
        "id": "LmzQtzPZ0-JX",
        "colab_type": "text"
      },
      "source": [
        "# GCS configuration\n",
        "\n",
        "* `SERVICE_ACCOUNT` : copy/paste your service account here\n",
        "* `BUCKET_PERSONAL` : bucket where you can read/write to save/load files between notebooks\n",
        "\n"
      ]
    },
    {
      "cell_type": "code",
      "metadata": {
        "id": "xC3T-Qr804n_",
        "colab_type": "code",
        "colab": {}
      },
      "source": [
        "SERVICE_ACCOUNT = json.loads(r\"\"\"{\n",
        "  \"type\": \"service_account\",\n",
        "  \"project_id\": \"...\",\n",
        "  \"private_key_id\": \"...\",\n",
        "  \"private_key\": \"...\",\n",
        "  \"client_email\": \"...\",\n",
        "  \"client_id\": \"...\",\n",
        "  \"auth_uri\": \"https://accounts.google.com/o/oauth2/auth\",\n",
        "  \"token_uri\": \"https://oauth2.googleapis.com/token\",\n",
        "  \"auth_provider_x509_cert_url\": \"https://www.googleapis.com/oauth2/v1/certs\",\n",
        "  \"client_x509_cert_url\": \"...\"\n",
        "}\"\"\")\n",
        "\n",
        "BUCKET_PERSONAL = \"eda-essence-student_firstname\""
      ],
      "execution_count": 0,
      "outputs": []
    },
    {
      "cell_type": "code",
      "metadata": {
        "id": "HmT9tkk5fOu_",
        "colab_type": "code",
        "colab": {}
      },
      "source": [
        "credentials = service_account.Credentials.from_service_account_info(\n",
        "    SERVICE_ACCOUNT,\n",
        "    scopes=[\"https://www.googleapis.com/auth/cloud-platform\"],\n",
        ")\n",
        "\n",
        "client_gcs = client.Client(\n",
        "    credentials=credentials,\n",
        "    project=credentials.project_id,\n",
        ")"
      ],
      "execution_count": 0,
      "outputs": []
    },
    {
      "cell_type": "markdown",
      "metadata": {
        "id": "y_M7tA0e1Mfs",
        "colab_type": "text"
      },
      "source": [
        "# Init and functions for GCS"
      ]
    },
    {
      "cell_type": "code",
      "metadata": {
        "id": "B3kzx7b71Jkm",
        "colab_type": "code",
        "colab": {}
      },
      "source": [
        "def download_file(local_filename, remote_filename, bucket):\n",
        "    blob = bucket.blob(remote_filename)\n",
        "    blob.download_to_filename(local_filename)\n"
      ],
      "execution_count": 0,
      "outputs": []
    },
    {
      "cell_type": "code",
      "metadata": {
        "id": "g0ulrwF9ejMl",
        "colab_type": "code",
        "colab": {}
      },
      "source": [
        "download_file(\"/tmp/test.csv.zip\", \"test.csv.zip\", client_gcs.bucket(BUCKET_PERSONAL))"
      ],
      "execution_count": 0,
      "outputs": []
    },
    {
      "cell_type": "code",
      "metadata": {
        "id": "Y-_6XMYxhBED",
        "colab_type": "code",
        "colab": {}
      },
      "source": [
        "df = pd.read_csv(\"/tmp/test.csv.zip\", dtype = {'col1': 'Int8','col2': 'Int8'}, compression = 'zip')"
      ],
      "execution_count": 0,
      "outputs": []
    },
    {
      "cell_type": "code",
      "metadata": {
        "id": "crBTuu8KlnU1",
        "colab_type": "code",
        "colab": {}
      },
      "source": [
        "df"
      ],
      "execution_count": 0,
      "outputs": []
    },
    {
      "cell_type": "code",
      "metadata": {
        "id": "Y_z8cPVAFCV7",
        "colab_type": "code",
        "colab": {}
      },
      "source": [
        "def save_file(local_filename, remote_filename, bucket):\n",
        "    blob = bucket.blob(remote_filename)\n",
        "    blob.upload_from_filename(local_filename)"
      ],
      "execution_count": 0,
      "outputs": []
    },
    {
      "cell_type": "code",
      "metadata": {
        "id": "Jm0R4_C0b0Cb",
        "colab_type": "code",
        "colab": {}
      },
      "source": [
        "df.to_csv(\"/tmp/test2.csv.zip\", compression = 'zip')"
      ],
      "execution_count": 0,
      "outputs": []
    },
    {
      "cell_type": "code",
      "metadata": {
        "id": "PlkwVO7ZE2BB",
        "colab_type": "code",
        "colab": {}
      },
      "source": [
        "save_file(\"/tmp/test2.csv.zip\",\"test2.csv.zip\", client_gcs.bucket(BUCKET_PERSONAL))"
      ],
      "execution_count": 0,
      "outputs": []
    }
  ]
}