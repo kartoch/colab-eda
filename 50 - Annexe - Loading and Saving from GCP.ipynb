{
  "nbformat": 4,
  "nbformat_minor": 0,
  "metadata": {
    "colab": {
      "name": "98 - Loading and Saving from GCP",
      "provenance": [],
      "include_colab_link": true
    },
    "kernelspec": {
      "name": "python3",
      "display_name": "Python 3"
    }
  },
  "cells": [
    {
      "cell_type": "markdown",
      "metadata": {
        "id": "view-in-github",
        "colab_type": "text"
      },
      "source": [
        "<a href=\"https://colab.research.google.com/github/kartoch/colab-eda/blob/master/50%20-%20Annexe%20-%20Loading%20and%20Saving%20from%20GCP.ipynb\" target=\"_parent\"><img src=\"https://colab.research.google.com/assets/colab-badge.svg\" alt=\"Open In Colab\"/></a>"
      ]
    },
    {
      "cell_type": "code",
      "metadata": {
        "id": "8LxQ037egN9v",
        "colab_type": "code",
        "colab": {}
      },
      "source": [
        "from google.oauth2 import service_account\n",
        "from google.cloud.storage import client\n",
        "import io\n",
        "import pandas as pd\n",
        "from io import BytesIO\n",
        "import json\n",
        "import os.path\n",
        "import logging\n",
        "from zipfile import ZipFile"
      ],
      "execution_count": 0,
      "outputs": []
    },
    {
      "cell_type": "code",
      "metadata": {
        "id": "5E0t0boWgOMT",
        "colab_type": "code",
        "colab": {}
      },
      "source": [
        "START_YEAR = 2007\n",
        "END_YEAR = 2019\n",
        "CACHE_DIRECTORY = \"/tmp/\"\n",
        "LOG_LEVEL = \"DEBUG\""
      ],
      "execution_count": 0,
      "outputs": []
    },
    {
      "cell_type": "code",
      "metadata": {
        "id": "NX1QEsERMLb4",
        "colab_type": "code",
        "colab": {}
      },
      "source": [
        "logging.basicConfig()\n",
        "logger = logging.getLogger()\n",
        "logger.setLevel(LOG_LEVEL)"
      ],
      "execution_count": 0,
      "outputs": []
    },
    {
      "cell_type": "code",
      "metadata": {
        "id": "OgdolG7meZMr",
        "colab_type": "code",
        "colab": {}
      },
      "source": [
        "SERVICE_ACCOUNT = json.loads(r\"\"\"{\n",
        "  \"type\": \"service_account\",\n",
        "  \"project_id\": \"...\",\n",
        "  \"private_key_id\": \"...\",\n",
        "  \"private_key\": \"...\",\n",
        "  \"client_email\": \"...\",\n",
        "  \"client_id\": \"...\",\n",
        "  \"auth_uri\": \"...\",\n",
        "  \"token_uri\": \"https://oauth2.googleapis.com/token\",\n",
        "  \"auth_provider_x509_cert_url\": \"https://www.googleapis.com/oauth2/v1/certs\",\n",
        "  \"client_x509_cert_url\": \"...\",\n",
        "}\"\"\")\n",
        "BUCKET_DATASETS = \"[TO BE FILLED]\"\n",
        "BUCKET_PERSONAL = \"[TO BE FILLED]\""
      ],
      "execution_count": 0,
      "outputs": []
    },
    {
      "cell_type": "code",
      "metadata": {
        "id": "gSiF7j-Jp1Z5",
        "colab_type": "code",
        "colab": {}
      },
      "source": [
        "credentials = service_account.Credentials.from_service_account_info(\n",
        "    SERVICE_ACCOUNT,\n",
        "    scopes=[\"https://www.googleapis.com/auth/cloud-platform\"],\n",
        ")\n",
        "\n",
        "client_gcs = client.Client(\n",
        "    credentials=credentials,\n",
        "    project=credentials.project_id,\n",
        ")"
      ],
      "execution_count": 0,
      "outputs": []
    },
    {
      "cell_type": "code",
      "metadata": {
        "id": "HR3If-PkZXuN",
        "colab_type": "code",
        "colab": {}
      },
      "source": [
        "def save_file(local_filename, remote_filename, bucket):\n",
        "    blob = bucket.blob(remote_filename)\n",
        "    blob.upload_from_filename(local_filename)"
      ],
      "execution_count": 0,
      "outputs": []
    },
    {
      "cell_type": "code",
      "metadata": {
        "id": "1B46SDXajVZb",
        "colab_type": "code",
        "colab": {}
      },
      "source": [
        "def download_file(local_filename, remote_filename, bucket):\n",
        "    if os.path.isfile(local_filename):\n",
        "      logger.info(\"Already donwloaded: %s\", local_filename)\n",
        "    blob = bucket.blob(remote_filename)\n",
        "    blob.download_to_filename(local_filename)"
      ],
      "execution_count": 0,
      "outputs": []
    },
    {
      "cell_type": "code",
      "metadata": {
        "id": "YTcj9_AJOBh0",
        "colab_type": "code",
        "colab": {}
      },
      "source": [
        "def download_datasets(blob_pathname, bucket):\n",
        "    blob = bucket.blob(blob_pathname)\n",
        "    return io.BytesIO(blob.download_as_string())\n",
        "\n",
        "def generator_zip_file(client):\n",
        "    bucket = client_gcs.bucket(BUCKET_DATASETS)\n",
        "    for year in range(START_YEAR,END_YEAR+1):\n",
        "        blob_pathname = \"PrixCarburants_annuel_\" + str(year) + \".zip\"\n",
        "        local_filename = CACHE_DIRECTORY + blob_pathname\n",
        "        download_file(local_filename,blob_pathname,bucket)\n",
        "        zip_ref = ZipFile(local_filename)\n",
        "        [xml_filename] = zip_ref.namelist()\n",
        "        yield (zip_ref.open(xml_filename),year)\n",
        "        zip_ref.close()"
      ],
      "execution_count": 0,
      "outputs": []
    },
    {
      "cell_type": "code",
      "metadata": {
        "id": "h3oi1nTmek8w",
        "colab_type": "code",
        "colab": {}
      },
      "source": [
        "for f,year in generator_zip_file(client):\n",
        "    print(f,year)"
      ],
      "execution_count": 0,
      "outputs": []
    },
    {
      "cell_type": "code",
      "metadata": {
        "id": "mOCwrrLtiqfz",
        "colab_type": "code",
        "colab": {}
      },
      "source": [
        "df_test = pd.DataFrame(\n",
        "    {\"col1\": [1,2,3],\n",
        "     \"col2\": [4,5,6]}\n",
        ").to_csv(path_or_buf=\"/tmp/test.csv\")"
      ],
      "execution_count": 0,
      "outputs": []
    },
    {
      "cell_type": "code",
      "metadata": {
        "id": "4IAcW8O2iMOR",
        "colab_type": "code",
        "colab": {}
      },
      "source": [
        "save_file(\"/tmp/test.csv\",\"test.csv\", client_gcs.bucket(BUCKET_PERSONAL))"
      ],
      "execution_count": 0,
      "outputs": []
    },
    {
      "cell_type": "code",
      "metadata": {
        "id": "hXyQSgVujfDo",
        "colab_type": "code",
        "colab": {}
      },
      "source": [
        "download_file(\"/tmp/test2.csv\",\"test.csv\", client_gcs.bucket(BUCKET_PERSONAL))"
      ],
      "execution_count": 0,
      "outputs": []
    },
    {
      "cell_type": "code",
      "metadata": {
        "id": "UPc1pFsxj0N8",
        "colab_type": "code",
        "colab": {}
      },
      "source": [
        "import filecmp\n",
        "assert filecmp.cmp('/tmp/test.csv', '/tmp/test2.csv')"
      ],
      "execution_count": 0,
      "outputs": []
    }
  ]
}