{
  "nbformat": 4,
  "nbformat_minor": 0,
  "metadata": {
    "kernelspec": {
      "display_name": "Python 3",
      "language": "python",
      "name": "python3"
    },
    "language_info": {
      "codemirror_mode": {
        "name": "ipython",
        "version": 3
      },
      "file_extension": ".py",
      "mimetype": "text/x-python",
      "name": "python",
      "nbconvert_exporter": "python",
      "pygments_lexer": "ipython3",
      "version": "3.7.3"
    },
    "colab": {
      "name": "99-project.ipynb",
      "provenance": [],
      "include_colab_link": true
    }
  },
  "cells": [
    {
      "cell_type": "markdown",
      "metadata": {
        "id": "view-in-github",
        "colab_type": "text"
      },
      "source": [
        "<a href=\"https://colab.research.google.com/github/kartoch/colab-eda/blob/master/99_project.ipynb\" target=\"_parent\"><img src=\"https://colab.research.google.com/assets/colab-badge.svg\" alt=\"Open In Colab\"/></a>"
      ]
    },
    {
      "cell_type": "markdown",
      "metadata": {
        "id": "Dj3Xs02dpTe8",
        "colab_type": "text"
      },
      "source": [
        "# Projet Gas (2018-2019)"
      ]
    },
    {
      "cell_type": "markdown",
      "metadata": {
        "toc-hr-collapsed": false,
        "id": "gmIrLi7KpTfF",
        "colab_type": "text"
      },
      "source": [
        "## Présentation"
      ]
    },
    {
      "cell_type": "markdown",
      "metadata": {
        "toc-hr-collapsed": false,
        "id": "VIDjaX3MpTfN",
        "colab_type": "text"
      },
      "source": [
        "### Sujet\n",
        "\n",
        "Le but de ce projet est d'étudier un jeu de données en commençant par les étapes ETL (*Extract-Transform-Load*), l'exploration des données puis l'étude d'une ou plusieurs questions ouvertes."
      ]
    },
    {
      "cell_type": "markdown",
      "metadata": {
        "toc-hr-collapsed": true,
        "id": "_G2LKkPBpTfR",
        "colab_type": "text"
      },
      "source": [
        "### Dataset\n",
        "\n",
        "Les fichiers de données utilisés dans le cadre de ce projet sont ceux des tarifs des pompes à essence en France.\n",
        "\n",
        "Ils sont disponibles ici: https://www.prix-carburants.gouv.fr/rubrique/opendata/ \n",
        "\n",
        "Durant le TP en salle, le mieux est de faire une copie locale des fichiers sur mon compte dans le répertoire temporaire de la machine (/tmp)."
      ]
    },
    {
      "cell_type": "code",
      "metadata": {
        "id": "dxDOgVilpTfW",
        "colab_type": "code",
        "colab": {}
      },
      "source": [
        "!mkdir /tmp/gas"
      ],
      "execution_count": 0,
      "outputs": []
    },
    {
      "cell_type": "code",
      "metadata": {
        "id": "bxPQNQhgpTfn",
        "colab_type": "code",
        "colab": {}
      },
      "source": [
        "!cp ~jcartign/datasets/PrixCarburants_*.zip /tmp/gas"
      ],
      "execution_count": 0,
      "outputs": []
    },
    {
      "cell_type": "markdown",
      "metadata": {
        "toc-hr-collapsed": false,
        "id": "nwNGsb4jpTfy",
        "colab_type": "text"
      },
      "source": [
        "### Logiciels étudiés\n",
        "\n",
        "* Numpy et Pandas\n",
        "* Seaborn et matplotlib\n",
        "\n",
        "Si vous avez fait votre installation avec anaconda ou miniconda, voici la commande pour installer ces logiciels:"
      ]
    },
    {
      "cell_type": "code",
      "metadata": {
        "id": "KDa7BNJ2pTf1",
        "colab_type": "code",
        "colab": {}
      },
      "source": [
        "%conda install pytables fastparquet numpy seaborn matplotlib pandas"
      ],
      "execution_count": 0,
      "outputs": []
    },
    {
      "cell_type": "markdown",
      "metadata": {
        "toc-hr-collapsed": false,
        "id": "NCcOyNFNpTgA",
        "colab_type": "text"
      },
      "source": [
        "### Organisation du projet\n",
        "\n",
        "Le projet doit être organisé en une série de feuilles Jupyter numérotées.\n",
        "\n",
        "Il y a (au moins) 4 feuilles à rendre:\n",
        "\n",
        "* conversion des XML en CSV\n",
        "* chargement des CSV dans pandas, typage des données et conversion dans le format parquet\n",
        "* exploration des données\n",
        "* étude d'une (ou plusieurs) questions ouvertes"
      ]
    },
    {
      "cell_type": "markdown",
      "metadata": {
        "id": "DjLa6L23pTgE",
        "colab_type": "text"
      },
      "source": [
        "### Organisation des feuilles\n",
        "\n",
        "La règle de base est que l’ensemble de vos feuilles soit **réutilisable**, c’est-à-dire qu’une personne peut reprendre un projet et relancer l’exécution de chacune (et éventuellement aboutir au  même résultat, mais le sujet de reproductibilité des expérimentations n’est pas couvert dans ce projet).\n",
        "\n",
        "Afin d'aider sur l'ordre d'exécution de vos feuilles, nommer les en commençant avec un numéro pour savoir dans quelle ordre elles doivent êtres exécutées, par exemple 01-csv-generation, 02-data-typing, etc."
      ]
    },
    {
      "cell_type": "markdown",
      "metadata": {
        "id": "USLxVSQrpTgI",
        "colab_type": "text"
      },
      "source": [
        "### Organisation d'une feuille\n",
        "\n",
        "Vos feuilles doivent êtres structurés comment suit\n",
        "1. La première cellule doit être en markdown, avec un titre et un ou plusieurs paragraphes décrivant le but de la feuille.\n",
        "2. La seconde cellule doit contenir les constantes qu’une personne utilisant votre feuille peut-être intéressée de modifier (chemin vers des datasets par exemple)."
      ]
    },
    {
      "cell_type": "code",
      "metadata": {
        "id": "gO70wDrIpTgM",
        "colab_type": "code",
        "colab": {}
      },
      "source": [
        "INPUT_PATH_TO_XML_FILES=\"/home/kartoch/Documents/datasets/gas/\"\n",
        "OUTPUT_PATH_TO_CSV_FILES=\"/tmp/gas\""
      ],
      "execution_count": 0,
      "outputs": []
    },
    {
      "cell_type": "markdown",
      "metadata": {
        "id": "Uv76-P_ipTgT",
        "colab_type": "text"
      },
      "source": [
        "3. La troisième cellule doit contenir l’ensemble des imports de la feuille suivi éventuellement de l’initialisation de certain composants (par exemple définition de la taille des graphiques générés par matplotlib ou seaborn)."
      ]
    },
    {
      "cell_type": "code",
      "metadata": {
        "id": "BFaCB8BLpTgV",
        "colab_type": "code",
        "colab": {}
      },
      "source": [
        "import csv\n",
        "import io\n",
        "import xml.sax\n",
        "import zipfile"
      ],
      "execution_count": 0,
      "outputs": []
    },
    {
      "cell_type": "markdown",
      "metadata": {
        "id": "QzGWV1s2pTgi",
        "colab_type": "text"
      },
      "source": [
        "## Structuration du code\n",
        "\n",
        "Quelques remarques sur comment structurer votre code\n",
        "* Ne pas avoir plusieurs lignes par cellule (les résultats des lignes intermediaires ne sont pas affichés)\n",
        "* Éviter dans la mesure du possible les commentaires dans votre code python, préférer une cellule markdown au dessus de votre code décrivant le comportement et/ou l'algorithme impliqué dans la cellule. Vous pouvez aussi ajouter de l'information pour un méthode sous forme de docstring"
      ]
    },
    {
      "cell_type": "code",
      "metadata": {
        "id": "9pRiK3f7pTgl",
        "colab_type": "code",
        "colab": {}
      },
      "source": [
        "def method_qui_fait_quelque_chose():\n",
        "    \"\"\"Cette méthode fait quelque chose\"\"\"\n",
        "    pass"
      ],
      "execution_count": 0,
      "outputs": []
    },
    {
      "cell_type": "markdown",
      "metadata": {
        "id": "pG0wa5YwpTgv",
        "colab_type": "text"
      },
      "source": [
        "* Utiliser des *backslash* pour éviter que votre code déborde sur plusieurs lignes"
      ]
    },
    {
      "cell_type": "code",
      "metadata": {
        "id": "lhZJLyFWpTgy",
        "colab_type": "code",
        "colab": {},
        "outputId": "7886b64a-70de-4392-eb43-bfb718e0c91d"
      },
      "source": [
        "\"bonjour les amis\"\\\n",
        "     .split(\" \")"
      ],
      "execution_count": 0,
      "outputs": [
        {
          "output_type": "execute_result",
          "data": {
            "text/plain": [
              "['bonjour', 'les', 'amis']"
            ]
          },
          "metadata": {
            "tags": []
          },
          "execution_count": 7
        }
      ]
    },
    {
      "cell_type": "markdown",
      "metadata": {
        "id": "xgRVWDeupTg9",
        "colab_type": "text"
      },
      "source": [
        "* Les chaînes de caractères peuvent être répartis sur plusieurs lignes"
      ]
    },
    {
      "cell_type": "code",
      "metadata": {
        "id": "FXnSiovqpThB",
        "colab_type": "code",
        "colab": {}
      },
      "source": [
        "a = \"abc\" +\\\n",
        "    \"def\""
      ],
      "execution_count": 0,
      "outputs": []
    },
    {
      "cell_type": "markdown",
      "metadata": {
        "id": "TezFppfepThK",
        "colab_type": "text"
      },
      "source": [
        "* les paramètres peuvent êtres répartis sur plusieurs lignes"
      ]
    },
    {
      "cell_type": "code",
      "metadata": {
        "id": "VnombcxXpThN",
        "colab_type": "code",
        "colab": {},
        "outputId": "bfbe1f7d-1f84-493f-e0dd-687176ac1342"
      },
      "source": [
        "\"blabla\".replace(\"bla\",\n",
        "                 \"BLA\")"
      ],
      "execution_count": 0,
      "outputs": [
        {
          "output_type": "execute_result",
          "data": {
            "text/plain": [
              "'BLABLA'"
            ]
          },
          "metadata": {
            "tags": []
          },
          "execution_count": 9
        }
      ]
    },
    {
      "cell_type": "markdown",
      "metadata": {
        "toc-hr-collapsed": false,
        "id": "6N07NsTwpThW",
        "colab_type": "text"
      },
      "source": [
        "## **Première feuille:** Conversion des XML en CSV\n",
        "\n",
        "La première feuille doit lire l'ensemble des XML représentant les données étudiés de manière hierarchique et sauvegarder ces données avec le format CSV (le format le plus commun pour des *datasets*). Il est possible de décompresser les fichiers zip à la volée ou de le faire manuellement avant l'exécution de la feuille."
      ]
    },
    {
      "cell_type": "markdown",
      "metadata": {
        "toc-hr-collapsed": false,
        "id": "3vNWUe00pThZ",
        "colab_type": "text"
      },
      "source": [
        "### Lecture des fichiers zip\n",
        "\n",
        "Soit un zip accédé par l'object fichier retourné par `io.BytesIo` (un module simulant les accès à un fichier binaire representé par une chaîne de caractère), voici comment ouvrir ce fichier zip et lire le contenu du fichier à l'intérieur:"
      ]
    },
    {
      "cell_type": "code",
      "metadata": {
        "id": "oQZZDP_vpThb",
        "colab_type": "code",
        "colab": {},
        "outputId": "742c7376-4a76-4eff-b36a-469ab586c803"
      },
      "source": [
        "f = io.BytesIO(b'\\x50\\x4b\\x03\\x04\\x0a\\x00\\x00\\x00\\x00\\x00\\x8f\\x61\\x84\\x4e\\x6b\\xeb\\x27\\x37\\x07\\x00'\n",
        "               b'\\x00\\x00\\x07\\x00\\x00\\x00\\x0a\\x00\\x1c\\x00\\x63\\x6f\\x75\\x63\\x6f\\x75\\x2e\\x74\\x78\\x74'\n",
        "               b'\\x55\\x54\\x09\\x00\\x03\\x8d\\xd8\\xa5\\x5c\\x92\\xd8\\xa5\\x5c\\x75\\x78\\x0b\\x00\\x01\\x04\\xe9'\n",
        "               b'\\x03\\x00\\x00\\x04\\x64\\x00\\x00\\x00\\x63\\x6f\\x75\\x63\\x6f\\x75\\x0a\\x50\\x4b\\x01\\x02\\x1e'\n",
        "               b'\\x03\\x0a\\x00\\x00\\x00\\x00\\x00\\x8f\\x61\\x84\\x4e\\x6b\\xeb\\x27\\x37\\x07\\x00\\x00\\x00\\x07'\n",
        "               b'\\x00\\x00\\x00\\x0a\\x00\\x18\\x00\\x00\\x00\\x00\\x00\\x01\\x00\\x00\\x00\\xa4\\x81\\x00\\x00\\x00'\n",
        "               b'\\x00\\x63\\x6f\\x75\\x63\\x6f\\x75\\x2e\\x74\\x78\\x74\\x55\\x54\\x05\\x00\\x03\\x8d\\xd8\\xa5\\x5c'\n",
        "               b'\\x75\\x78\\x0b\\x00\\x01\\x04\\xe9\\x03\\x00\\x00\\x04\\x64\\x00\\x00\\x00\\x50\\x4b\\x05\\x06\\x00'\n",
        "               b'\\x00\\x00\\x00\\x01\\x00\\x01\\x00\\x50\\x00\\x00\\x00\\x4b\\x00\\x00\\x00\\x00\\x00')\n",
        "\n",
        "zip_ref = zipfile.ZipFile(f, 'r')\n",
        "[inside_filename] = zip_ref.namelist()\n",
        "print(\"inside_filename: \" + inside_filename)\n",
        "inside_data = zip_ref.open(inside_filename).readline()\n",
        "print(\"inside_data: \" + str(inside_data))\n",
        "zip_ref.close()"
      ],
      "execution_count": 0,
      "outputs": [
        {
          "output_type": "stream",
          "text": [
            "inside_filename: coucou.txt\n",
            "inside_data: b'coucou\\n'\n"
          ],
          "name": "stdout"
        }
      ]
    },
    {
      "cell_type": "markdown",
      "metadata": {
        "id": "dMgmjo0mpThj",
        "colab_type": "text"
      },
      "source": [
        "### Lecture des fichiers XML\n",
        "\n",
        "Il existe plusieurs méthodes pour lire un xml:\n",
        "1. xml.etre.ElementTrree: mécanisme simple représentant l'intégralité de la structure XML en mémoire\n",
        "2. xml.sax: une implémentation de SAX2 permettant de définir les actions à prendre lors du traîtement d'un fichier XML\n",
        "3. lxml: non couvert dans ce cours\n",
        "\n",
        "Dans le cadre de ce projet, le premier n'est pas utilisable au vu de la taille des données chargées. L'approche SAX2 est décrite ci-dessous.\n",
        "\n",
        "Le principe de SAX2 est de lire le fichier tout en appelant à chaque entité une fonction fournie par le programmeur.\n",
        "\n",
        "Soit par exemple le fichier suivant (émulé grace au module `io.StringIO` simulant l'accès à un fichier texte): "
      ]
    },
    {
      "cell_type": "code",
      "metadata": {
        "id": "J3X5T34HpThl",
        "colab_type": "code",
        "colab": {}
      },
      "source": [
        "my_xml = io.StringIO('<abc id=\"toto\">'\n",
        "                       '<cool fih=\"123\" koka=\"kola\">trop</cool>'\n",
        "                       '<def>méthodes</def>'\n",
        "                     '</abc>')"
      ],
      "execution_count": 0,
      "outputs": []
    },
    {
      "cell_type": "markdown",
      "metadata": {
        "id": "ntJ_7YcYpThs",
        "colab_type": "text"
      },
      "source": [
        "Le programmeur implémente les méthodes nécessaires dans la classe suivante:"
      ]
    },
    {
      "cell_type": "code",
      "metadata": {
        "id": "Y3GgXrWWpThw",
        "colab_type": "code",
        "colab": {}
      },
      "source": [
        "class StreamHandler(xml.sax.handler.ContentHandler):\n",
        "\n",
        "    def startElement(self, name, attrs):\n",
        "        \"\"\"Appelé à chaque tag ouvrant, par exemple <coucou>. Les attributs du tag sont \n",
        "           disponibles sous forme de dictionnaire.\n",
        "           \"\"\"\n",
        "        print(\"startElement \" + name + \" attrs:\" + str(dict(attrs.items())))\n",
        "\n",
        "    def characters(self, content):\n",
        "        \"\"\"Appelé à chaque texte entre les tags, par exemple pour \n",
        "           <coucou>ICI</coucou>AUSSI<tralala/> la méthode sera appelé \n",
        "           pour ICI puis pour AUSSI\n",
        "           \"\"\"\n",
        "        print(\"characters \" + content)\n",
        "        \n",
        "    def endElement(self, name):\n",
        "        \"\"\"Appelé à chaque tag fermant, par exemple </coucou>\"\"\"\n",
        "        print(\"endElement \" + name)"
      ],
      "execution_count": 0,
      "outputs": []
    },
    {
      "cell_type": "code",
      "metadata": {
        "id": "OYQFouNbpTiB",
        "colab_type": "code",
        "colab": {},
        "outputId": "96414d77-d408-46c1-d1dd-57f84387009a"
      },
      "source": [
        "parser = xml.sax.make_parser()\n",
        "handler = StreamHandler()\n",
        "parser.setContentHandler(handler)\n",
        "parser.parse(my_xml)"
      ],
      "execution_count": 0,
      "outputs": [
        {
          "output_type": "stream",
          "text": [
            "startElement abc attrs:{'id': 'toto'}\n",
            "startElement cool attrs:{'fih': '123', 'koka': 'kola'}\n",
            "characters trop\n",
            "endElement cool\n",
            "startElement def attrs:{}\n",
            "characters méthodes\n",
            "endElement def\n",
            "endElement abc\n"
          ],
          "name": "stdout"
        }
      ]
    },
    {
      "cell_type": "markdown",
      "metadata": {
        "id": "wyjnHh6-pTiH",
        "colab_type": "text"
      },
      "source": [
        "**Attention:** selon l'encodage des caractères, la méthode `characters` peut-être appelé plusieurs fois sur une seule chaîne."
      ]
    },
    {
      "cell_type": "markdown",
      "metadata": {
        "id": "H5Vy9tTipTiK",
        "colab_type": "text"
      },
      "source": [
        "### Écriture des CSV\n",
        "\n",
        "Voici un exemple d'utilisation du module CSV disponible dans la librarie standard de Python."
      ]
    },
    {
      "cell_type": "code",
      "metadata": {
        "id": "bkgbS2LDpTiM",
        "colab_type": "code",
        "colab": {},
        "outputId": "a4d4a674-e6c8-4d08-9a2d-0e923b5810f0"
      },
      "source": [
        "csv_file = io.StringIO()\n",
        "csv_writer = csv.DictWriter(csv_file, fieldnames=['a','b'])\n",
        "csv_writer.writeheader()\n",
        "csv_writer.writerow({'a': \"blabla\", 'b': \"tagada\"})\n",
        "print(csv_file.getvalue())"
      ],
      "execution_count": 0,
      "outputs": [
        {
          "output_type": "stream",
          "text": [
            "a,b\n",
            "blabla,tagada\n",
            "\n"
          ],
          "name": "stdout"
        }
      ]
    },
    {
      "cell_type": "markdown",
      "metadata": {
        "id": "46wVi3SRpTiT",
        "colab_type": "text"
      },
      "source": [
        "## **Seconde feuille:** Typage des données\n",
        "\n",
        "La seconde feuille commence par ouvrir les fichiers CSV avec pandas. Le sujet de pandas ayant été couvert auparavant, nous ne nous interesserons qu'au problème de conversion des données temporelles."
      ]
    },
    {
      "cell_type": "markdown",
      "metadata": {
        "id": "Ji-maf8LpTiW",
        "colab_type": "text"
      },
      "source": [
        "## **Troisième feuille:** Découverte graphique des données"
      ]
    },
    {
      "cell_type": "markdown",
      "metadata": {
        "id": "xUmAIe0EpTia",
        "colab_type": "text"
      },
      "source": [
        "### Rendu graphique\n",
        "\n",
        "Il existe plusieurs bibliothèque pour l'exploration des données. Nous utiliserons ici seaborn et pyplot.\n",
        "\n",
        "**TODO**"
      ]
    },
    {
      "cell_type": "markdown",
      "metadata": {
        "id": "Zxh5rsDTpTic",
        "colab_type": "text"
      },
      "source": [
        "### Questions à répondre\n",
        "* Première exploration de la tendance des prix: Moyenne des prix par rapport au temps pour chaque carburant (nécessité d'utiliser [le mécansisme de sliding window de pandas](https://pandas.pydata.org/pandas-docs/stable/reference/api/pandas.DataFrame.rolling.html) pour affiner les courbes)\n",
        "* Nombre de MAJ par mois (voir l'usage de [Grouper](https://pandas.pydata.org/pandas-docs/stable/reference/api/pandas.Grouper.html) comme option de groupBy)\n",
        "* Fréquence des mise-à-jour par proportion de stations \n",
        "* Proportion de chaque services (avec un barplot)\n",
        "* Est ce que les informations sur les PDV évoluent chaque année ?\n",
        "* Variation du nombre de PDV // année\n",
        "* Scatterplot du prix en fonction du temps pour chaque carburant"
      ]
    },
    {
      "cell_type": "markdown",
      "metadata": {
        "id": "MhjjYDnTpTie",
        "colab_type": "text"
      },
      "source": [
        "## **Feuilles projets** "
      ]
    },
    {
      "cell_type": "markdown",
      "metadata": {
        "id": "IkIWmYCipTif",
        "colab_type": "text"
      },
      "source": [
        "Voici une liste de proposition de sujets ouverts à couvrir pendant le projet EDA"
      ]
    },
    {
      "cell_type": "markdown",
      "metadata": {
        "id": "slZzH8oppTii",
        "colab_type": "text"
      },
      "source": [
        "## **Premier sujet:** Prix et station essence"
      ]
    },
    {
      "cell_type": "markdown",
      "metadata": {
        "id": "-Zjb0MCypTik",
        "colab_type": "text"
      },
      "source": [
        "### Classification des pompes en fonction de leur prix moyen\n",
        "\n",
        "Est il possible de classer chaque pompe dans une catégorie en fonction de son prix moyen (le nombre de catégorie étant fixé, par exemple 5) ?\n",
        "\n",
        "Cette question en pose plusieurs autres:\n",
        "\n",
        "* est ce que la catégorisation d'une pompe à essence est indépendante du type d'essence ?\n",
        "* quel est l'impact des erreurs (voir autres sujets ci-dessous) ?"
      ]
    },
    {
      "cell_type": "markdown",
      "metadata": {
        "id": "ZWQKc1tkpTio",
        "colab_type": "text"
      },
      "source": [
        "### Affichage graphique des prix \n",
        "\n",
        "Il est alors possible d'afficher les graphiques du prix moyen de chaque catégorie de pompe en fonction de son carburant."
      ]
    },
    {
      "cell_type": "markdown",
      "metadata": {
        "id": "33sLZ5oBpTit",
        "colab_type": "text"
      },
      "source": [
        "### Prix VS autoroutes\n",
        "\n",
        "A partir du résultat précédent, est il possible de coréeler le fait qu'une station est sur l'autoroute (code de 'pop') et son prix ?"
      ]
    },
    {
      "cell_type": "markdown",
      "metadata": {
        "id": "M-U68bpopTiu",
        "colab_type": "text"
      },
      "source": [
        "### Représentation géographique\n",
        "\n",
        "Créer un graphique pour identifier les variation de prix en fonction de la position géographique:\n",
        "* un point par station avec un code couleur pour chaque catégorie\n",
        "* une heat map avec une couleur basé sur la moyenne des catégories de la zone couverte"
      ]
    },
    {
      "cell_type": "markdown",
      "metadata": {
        "id": "B37o-sXSpTiw",
        "colab_type": "text"
      },
      "source": [
        "## **Second sujet:** Qualité des données de prix"
      ]
    },
    {
      "cell_type": "markdown",
      "metadata": {
        "id": "JWVVVf9_pTiz",
        "colab_type": "text"
      },
      "source": [
        "### Erreurs sur les relevés des prix\n",
        "\n",
        "Certaines stations envoient des prix eronnés. Il est possible de procéder de plusieurs manières (complémentaires) pour les enlever:\n",
        "1. détecter les prix abberants (à partir de valeurs hors normes par exemple)\n",
        "2. vérifier le comportement local (variation importante d'une même courbe)\n",
        "3. vérifier le comportement global (différence par rapport aux autres prix dans la même période)"
      ]
    },
    {
      "cell_type": "markdown",
      "metadata": {
        "id": "8iBAKj8bpTi1",
        "colab_type": "text"
      },
      "source": [
        "### Catégoriser les stations en fonction de leur taux d'erreur\n",
        "\n",
        "Est il possible de donner un indice de confiance pour chaque pompe sur la qualité de ses prix avec plusieurs méthodes (combinables):\n",
        "1. à partir de son taux de rafraichissement ?\n",
        "2. ses erreurs sur les prix (voir précédent sujet) ?\n",
        "3. de son comportement par rapport aux autres pompes ?"
      ]
    }
  ]
}