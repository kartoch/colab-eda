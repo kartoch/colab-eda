{
  "nbformat": 4,
  "nbformat_minor": 0,
  "metadata": {
    "kernelspec": {
      "display_name": "Python 3",
      "language": "python",
      "name": "python3"
    },
    "language_info": {
      "codemirror_mode": {
        "name": "ipython",
        "version": 3
      },
      "file_extension": ".py",
      "mimetype": "text/x-python",
      "name": "python",
      "nbconvert_exporter": "python",
      "pygments_lexer": "ipython3",
      "version": "3.7.1"
    },
    "colab": {
      "name": "04-videogames-blank.ipynb",
      "provenance": [],
      "include_colab_link": true
    }
  },
  "cells": [
    {
      "cell_type": "markdown",
      "metadata": {
        "id": "view-in-github",
        "colab_type": "text"
      },
      "source": [
        "<a href=\"https://colab.research.google.com/github/kartoch/colab-eda/blob/master/04%20Videogames%20Blank.ipynb\" target=\"_parent\"><img src=\"https://colab.research.google.com/assets/colab-badge.svg\" alt=\"Open In Colab\"/></a>"
      ]
    },
    {
      "cell_type": "code",
      "metadata": {
        "id": "aJBAF5dIkQru",
        "colab_type": "code",
        "colab": {}
      },
      "source": [
        "import numpy as np\n",
        "import pandas as pd"
      ],
      "execution_count": 0,
      "outputs": []
    },
    {
      "cell_type": "code",
      "metadata": {
        "id": "baFDNB8mkQsJ",
        "colab_type": "code",
        "colab": {}
      },
      "source": [
        "df = pd.read_csv(\"video-games.csv\",)"
      ],
      "execution_count": 0,
      "outputs": []
    },
    {
      "cell_type": "code",
      "metadata": {
        "id": "3xIwu-CJkQsb",
        "colab_type": "code",
        "colab": {},
        "outputId": "aec11d59-7805-4714-d019-8376c486ddf3"
      },
      "source": [
        "df.info()"
      ],
      "execution_count": 0,
      "outputs": [
        {
          "output_type": "stream",
          "text": [
            "<class 'pandas.core.frame.DataFrame'>\n",
            "RangeIndex: 16719 entries, 0 to 16718\n",
            "Data columns (total 16 columns):\n",
            "Name               16717 non-null object\n",
            "Platform           16719 non-null object\n",
            "Year_of_Release    16450 non-null float64\n",
            "Genre              16717 non-null object\n",
            "Publisher          16665 non-null object\n",
            "NA_Sales           16719 non-null float64\n",
            "EU_Sales           16719 non-null float64\n",
            "JP_Sales           16719 non-null float64\n",
            "Other_Sales        16719 non-null float64\n",
            "Global_Sales       16719 non-null float64\n",
            "Critic_Score       8137 non-null float64\n",
            "Critic_Count       8137 non-null float64\n",
            "User_Score         10015 non-null object\n",
            "User_Count         7590 non-null float64\n",
            "Developer          10096 non-null object\n",
            "Rating             9950 non-null object\n",
            "dtypes: float64(9), object(7)\n",
            "memory usage: 2.0+ MB\n"
          ],
          "name": "stdout"
        }
      ]
    },
    {
      "cell_type": "markdown",
      "metadata": {
        "id": "oIm9pGiCkQsr",
        "colab_type": "text"
      },
      "source": [
        "Recharger le jeu de données en forçant les types (voir documentation de read_csv)"
      ]
    },
    {
      "cell_type": "markdown",
      "metadata": {
        "id": "pmW8y4GfkQsu",
        "colab_type": "text"
      },
      "source": [
        "Transformer les colonnes Platform et Genre en catégories (astype)"
      ]
    },
    {
      "cell_type": "markdown",
      "metadata": {
        "id": "Bf9oQ-aSkQsz",
        "colab_type": "text"
      },
      "source": [
        "Print the 5 first rows using head then iloc"
      ]
    },
    {
      "cell_type": "markdown",
      "metadata": {
        "id": "jqfAqqJ2kQs3",
        "colab_type": "text"
      },
      "source": [
        "print only the column Developer"
      ]
    },
    {
      "cell_type": "markdown",
      "metadata": {
        "id": "rafS5nZnkQs6",
        "colab_type": "text"
      },
      "source": [
        "Print the list of all possible ratings (quelle est la méthode pour obtenir les éléments uniques d'une colonne ?)"
      ]
    },
    {
      "cell_type": "markdown",
      "metadata": {
        "id": "cZtz2O7MkQs9",
        "colab_type": "text"
      },
      "source": [
        "As saw in previous question, there is a field nan. Print the list of all possible ratings WITHOUT null values"
      ]
    },
    {
      "cell_type": "markdown",
      "metadata": {
        "id": "Y5oiHDZSkQtC",
        "colab_type": "text"
      },
      "source": [
        "Print all Year_of_Release values possible (not duplicate) to identify what is the null value in it (i.e. the field which is not a year)."
      ]
    },
    {
      "cell_type": "markdown",
      "metadata": {
        "id": "Tmn1A1ttkQtG",
        "colab_type": "text"
      },
      "source": [
        "Question 9: Could you guess the genre which bring the best sales in Japan (based on column JP_Sales) ?"
      ]
    },
    {
      "cell_type": "markdown",
      "metadata": {
        "id": "EumzS1CvkQtK",
        "colab_type": "text"
      },
      "source": [
        "Compute the average User Score and the number of User Score for each Publisher"
      ]
    },
    {
      "cell_type": "code",
      "metadata": {
        "id": "ccNMxDtxkQtM",
        "colab_type": "code",
        "colab": {}
      },
      "source": [
        "import matplotlib\n",
        "import matplotlib.pyplot as plt\n",
        "import seaborn as sns\n",
        "%matplotlib inline\n",
        "matplotlib.rcParams['figure.figsize'] = (20,8)"
      ],
      "execution_count": 0,
      "outputs": []
    },
    {
      "cell_type": "markdown",
      "metadata": {
        "id": "P5Wv8SGkkQtV",
        "colab_type": "text"
      },
      "source": [
        "Print the number of release by year (one line by publisher)"
      ]
    },
    {
      "cell_type": "markdown",
      "metadata": {
        "id": "aS_eImLSkQtY",
        "colab_type": "text"
      },
      "source": [
        "**Q:** Print a barplot (using sns.barplot method) with the year in X and the number of games released in Y. Years must be sorted and null value must be excluded."
      ]
    },
    {
      "cell_type": "markdown",
      "metadata": {
        "id": "4JULCHU7kQtc",
        "colab_type": "text"
      },
      "source": [
        "**Q:** Print a barplot (using sns.barplot method) with the year in X and the number of games released in Y only for Wii games. Years must be sorted and null value must be excluded."
      ]
    }
  ]
}