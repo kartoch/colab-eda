{
  "nbformat": 4,
  "nbformat_minor": 0,
  "metadata": {
    "colab": {
      "name": "98 - Loading and Saving from GCP",
      "provenance": [],
      "include_colab_link": true
    },
    "kernelspec": {
      "name": "python3",
      "display_name": "Python 3"
    }
  },
  "cells": [
    {
      "cell_type": "markdown",
      "metadata": {
        "id": "view-in-github",
        "colab_type": "text"
      },
      "source": [
        "<a href=\"https://colab.research.google.com/github/kartoch/colab-eda/blob/master/98%20-%20Loading%20and%20Saving%20from%20GCP.ipynb\" target=\"_parent\"><img src=\"https://colab.research.google.com/assets/colab-badge.svg\" alt=\"Open In Colab\"/></a>"
      ]
    },
    {
      "cell_type": "code",
      "metadata": {
        "id": "8LxQ037egN9v",
        "colab_type": "code",
        "colab": {}
      },
      "source": [
        "from google.oauth2 import service_account\n",
        "from google.cloud.storage import client\n",
        "import io\n",
        "import pandas as pd\n",
        "from io import BytesIO\n",
        "import json\n",
        "from zipfile import ZipFile"
      ],
      "execution_count": 0,
      "outputs": []
    },
    {
      "cell_type": "code",
      "metadata": {
        "id": "OgdolG7meZMr",
        "colab_type": "code",
        "colab": {}
      },
      "source": [
        "SERVICE_ACCOUNT = json.loads(r\"\"\"{\n",
        "  \"type\": \"service_account\",\n",
        "  \"project_id\": \"[REPLACE WITH YOUR FILE]\",\n",
        "  \"privat_sae_key_id\": \"[REPLACE WITH YOUR FILE]\",\n",
        "  \"private_key\": \"[REPLACE WITH YOUR FILE]\",\n",
        "  \"client_email\": \"[REPLACE WITH YOUR FILE]\",\n",
        "  \"client_id\": \"[REPLACE WITH YOUR FILE]\",\n",
        "  \"auth_uri\": \"https://accounts.google.com/o/oauth2/auth\",\n",
        "  \"token_uri\": \"https://oauth2.googleapis.com/token\",\n",
        "  \"auth_provider_x509_cert_url\": \"https://www.googleapis.com/oauth2/v1/certs\",\n",
        "  \"client_x509_cert_url\": \"[REPLACE WITH YOUR FILE]\"\n",
        "}\"\"\")\n",
        "BUCKET_DATASETS = \"[NAME OF YOUR BUCKET TO READ DATASETS]\"\n",
        "BUCKET_PERSONAL = \"[NAME OF YOUR BUCKET TO READ/WITE YOUR DATA (CSV or PARQUET)]\""
      ],
      "execution_count": 0,
      "outputs": []
    },
    {
      "cell_type": "code",
      "metadata": {
        "id": "gSiF7j-Jp1Z5",
        "colab_type": "code",
        "colab": {}
      },
      "source": [
        "credentials = service_account.Credentials.from_service_account_info(\n",
        "    SERVICE_ACCOUNT,\n",
        "    scopes=[\"https://www.googleapis.com/auth/cloud-platform\"],\n",
        ")\n",
        "\n",
        "client = client.Client(\n",
        "    credentials=credentials,\n",
        "    project=credentials.project_id,\n",
        ")"
      ],
      "execution_count": 0,
      "outputs": []
    },
    {
      "cell_type": "code",
      "metadata": {
        "id": "5E0t0boWgOMT",
        "colab_type": "code",
        "colab": {}
      },
      "source": [
        "START_YEAR = 2007\n",
        "END_YEAR = 2018"
      ],
      "execution_count": 0,
      "outputs": []
    },
    {
      "cell_type": "code",
      "metadata": {
        "id": "YTcj9_AJOBh0",
        "colab_type": "code",
        "colab": {}
      },
      "source": [
        "def download_datasets(year, bucket):\n",
        "    blob_pathname = \"PrixCarburants_annuel_\" + str(year) + \".zip\"\n",
        "    blob = bucket.blob(blob_pathname)\n",
        "    return ZipFile(io.BytesIO(blob.download_as_string()))\n",
        "\n",
        "def generator_zip_file(client):\n",
        "    bucket = client.bucket(BUCKET_DATASETS)\n",
        "    for year in range(START_YEAR,END_YEAR+1):\n",
        "        zip_ref = download_datasets(year, bucket)    \n",
        "        [xml_filename] = zip_ref.namelist()\n",
        "        yield (zip_ref.open(xml_filename),year)\n",
        "        zip_ref.close()"
      ],
      "execution_count": 0,
      "outputs": []
    },
    {
      "cell_type": "code",
      "metadata": {
        "id": "h3oi1nTmek8w",
        "colab_type": "code",
        "outputId": "a6279888-8b2a-4025-f8ea-c99c608eb249",
        "colab": {
          "base_uri": "https://localhost:8080/",
          "height": 237
        }
      },
      "source": [
        "for f,year in generator_zip_file(client):\n",
        "    print(f,year)"
      ],
      "execution_count": 0,
      "outputs": [
        {
          "output_type": "stream",
          "text": [
            "<zipfile.ZipExtFile name='PrixCarburants_annuel_2007.xml' mode='r' compress_type=deflate> 2007\n",
            "<zipfile.ZipExtFile name='PrixCarburants_annuel_2008.xml' mode='r' compress_type=deflate> 2008\n",
            "<zipfile.ZipExtFile name='PrixCarburants_annuel_2009.xml' mode='r' compress_type=deflate> 2009\n",
            "<zipfile.ZipExtFile name='PrixCarburants_annuel_2010.xml' mode='r' compress_type=deflate> 2010\n",
            "<zipfile.ZipExtFile name='PrixCarburants_annuel_2011.xml' mode='r' compress_type=deflate> 2011\n",
            "<zipfile.ZipExtFile name='PrixCarburants_annuel_2012.xml' mode='r' compress_type=deflate> 2012\n",
            "<zipfile.ZipExtFile name='PrixCarburants_annuel_2013.xml' mode='r' compress_type=deflate> 2013\n",
            "<zipfile.ZipExtFile name='PrixCarburants_annuel_2014.xml' mode='r' compress_type=deflate> 2014\n",
            "<zipfile.ZipExtFile name='PrixCarburants_annuel_2015.xml' mode='r' compress_type=deflate> 2015\n",
            "<zipfile.ZipExtFile name='PrixCarburants_annuel_2016.xml' mode='r' compress_type=deflate> 2016\n",
            "<zipfile.ZipExtFile name='PrixCarburants_annuel_2017.xml' mode='r' compress_type=deflate> 2017\n",
            "<zipfile.ZipExtFile name='PrixCarburants_annuel_2018.xml' mode='r' compress_type=deflate> 2018\n"
          ],
          "name": "stdout"
        }
      ]
    },
    {
      "cell_type": "code",
      "metadata": {
        "id": "mOCwrrLtiqfz",
        "colab_type": "code",
        "colab": {}
      },
      "source": [
        "df_test = pd.DataFrame(\n",
        "    {\"col1\": [1,2,3],\n",
        "     \"col2\": [4,5,6]}\n",
        ").to_csv(path_or_buf=\"/tmp/test.csv\")"
      ],
      "execution_count": 0,
      "outputs": []
    },
    {
      "cell_type": "code",
      "metadata": {
        "id": "HR3If-PkZXuN",
        "colab_type": "code",
        "colab": {}
      },
      "source": [
        "def save_file(local_filename, remote_filename):\n",
        "    bucket = client.get_bucket(BUCKET_PERSONAL)\n",
        "    blob = bucket.blob(remote_filename)\n",
        "    blob.upload_from_filename(local_filename)"
      ],
      "execution_count": 0,
      "outputs": []
    },
    {
      "cell_type": "code",
      "metadata": {
        "id": "4IAcW8O2iMOR",
        "colab_type": "code",
        "colab": {}
      },
      "source": [
        "save_file(\"/tmp/test.csv\",\"test.csv\")"
      ],
      "execution_count": 0,
      "outputs": []
    },
    {
      "cell_type": "code",
      "metadata": {
        "id": "1B46SDXajVZb",
        "colab_type": "code",
        "colab": {}
      },
      "source": [
        "def download_file(local_filename, remote_filename):\n",
        "    bucket = client.get_bucket(BUCKET_PERSONAL)\n",
        "    blob = bucket.blob(remote_filename)\n",
        "    blob.download_to_filename(local_filename)"
      ],
      "execution_count": 0,
      "outputs": []
    },
    {
      "cell_type": "code",
      "metadata": {
        "id": "hXyQSgVujfDo",
        "colab_type": "code",
        "colab": {}
      },
      "source": [
        "download_file(\"/tmp/test2.csv\",\"test.csv\")"
      ],
      "execution_count": 0,
      "outputs": []
    },
    {
      "cell_type": "code",
      "metadata": {
        "id": "UPc1pFsxj0N8",
        "colab_type": "code",
        "colab": {}
      },
      "source": [
        "import filecmp\n",
        "assert filecmp.cmp('/tmp/test.csv', '/tmp/test2.csv')"
      ],
      "execution_count": 0,
      "outputs": []
    }
  ]
}