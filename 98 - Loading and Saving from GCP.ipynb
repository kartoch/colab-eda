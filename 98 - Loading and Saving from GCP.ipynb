{
  "nbformat": 4,
  "nbformat_minor": 0,
  "metadata": {
    "colab": {
      "name": "98 - Loading and Saving from GCP",
      "provenance": [],
      "include_colab_link": true
    },
    "kernelspec": {
      "name": "python3",
      "display_name": "Python 3"
    }
  },
  "cells": [
    {
      "cell_type": "markdown",
      "metadata": {
        "id": "view-in-github",
        "colab_type": "text"
      },
      "source": [
        "<a href=\"https://colab.research.google.com/github/kartoch/colab-eda/blob/master/98%20-%20Loading%20and%20Saving%20from%20GCP.ipynb\" target=\"_parent\"><img src=\"https://colab.research.google.com/assets/colab-badge.svg\" alt=\"Open In Colab\"/></a>"
      ]
    },
    {
      "cell_type": "code",
      "metadata": {
        "id": "8LxQ037egN9v",
        "colab_type": "code",
        "colab": {}
      },
      "source": [
        "from google.oauth2 import service_account\n",
        "from google.cloud.storage import client\n",
        "import io\n",
        "import pandas as pd\n",
        "from io import BytesIO\n",
        "import json\n",
        "import os.path\n",
        "import logging\n",
        "from zipfile import ZipFile"
      ],
      "execution_count": 0,
      "outputs": []
    },
    {
      "cell_type": "code",
      "metadata": {
        "id": "5E0t0boWgOMT",
        "colab_type": "code",
        "colab": {}
      },
      "source": [
        "START_YEAR = 2007\n",
        "END_YEAR = 2019\n",
        "CACHE_DIRECTORY = \"/tmp/\"\n",
        "LOG_LEVEL = \"DEBUG\""
      ],
      "execution_count": 0,
      "outputs": []
    },
    {
      "cell_type": "code",
      "metadata": {
        "id": "NX1QEsERMLb4",
        "colab_type": "code",
        "colab": {}
      },
      "source": [
        "logging.basicConfig()\n",
        "logger = logging.getLogger()\n",
        "logger.setLevel(LOG_LEVEL)"
      ],
      "execution_count": 0,
      "outputs": []
    },
    {
      "cell_type": "code",
      "metadata": {
        "id": "OgdolG7meZMr",
        "colab_type": "code",
        "colab": {}
      },
      "source": [
        "SERVICE_ACCOUNT = json.loads(r\"\"\"{\n",
        "  \"type\": \"service_account\",\n",
        "  \"project_id\": \"...\",\n",
        "  \"private_key_id\": \"...\",\n",
        "  \"private_key\": \"...\",\n",
        "  \"client_email\": \"...\",\n",
        "  \"client_id\": \"...\",\n",
        "  \"auth_uri\": \"...\",\n",
        "  \"token_uri\": \"https://oauth2.googleapis.com/token\",\n",
        "  \"auth_provider_x509_cert_url\": \"https://www.googleapis.com/oauth2/v1/certs\",\n",
        "  \"client_x509_cert_url\": \"...\",\n",
        "}\"\"\")\n",
        "BUCKET_DATASETS = \"[TO BE FILLED]\"\n",
        "BUCKET_PERSONAL = \"[TO BE FILLED]\""
      ],
      "execution_count": 0,
      "outputs": []
    },
    {
      "cell_type": "code",
      "metadata": {
        "id": "gSiF7j-Jp1Z5",
        "colab_type": "code",
        "colab": {}
      },
      "source": [
        "credentials = service_account.Credentials.from_service_account_info(\n",
        "    SERVICE_ACCOUNT,\n",
        "    scopes=[\"https://www.googleapis.com/auth/cloud-platform\"],\n",
        ")\n",
        "\n",
        "client_gcs = client.Client(\n",
        "    credentials=credentials,\n",
        "    project=credentials.project_id,\n",
        ")"
      ],
      "execution_count": 0,
      "outputs": []
    },
    {
      "cell_type": "code",
      "metadata": {
        "id": "HR3If-PkZXuN",
        "colab_type": "code",
        "colab": {}
      },
      "source": [
        "def save_file(local_filename, remote_filename, bucket):\n",
        "    blob = bucket.blob(remote_filename)\n",
        "    blob.upload_from_filename(local_filename)"
      ],
      "execution_count": 0,
      "outputs": []
    },
    {
      "cell_type": "code",
      "metadata": {
        "id": "1B46SDXajVZb",
        "colab_type": "code",
        "colab": {}
      },
      "source": [
        "def download_file(local_filename, remote_filename, bucket):\n",
        "    if os.path.isfile(local_filename):\n",
        "      logger.info(\"Already donwloaded: %s\", local_filename)\n",
        "    blob = bucket.blob(remote_filename)\n",
        "    blob.download_to_filename(local_filename)"
      ],
      "execution_count": 0,
      "outputs": []
    },
    {
      "cell_type": "code",
      "metadata": {
        "id": "YTcj9_AJOBh0",
        "colab_type": "code",
        "colab": {}
      },
      "source": [
        "def download_datasets(blob_pathname, bucket):\n",
        "    blob = bucket.blob(blob_pathname)\n",
        "    return io.BytesIO(blob.download_as_string())\n",
        "\n",
        "def generator_zip_file(client):\n",
        "    bucket = client_gcs.bucket(BUCKET_DATASETS)\n",
        "    for year in range(START_YEAR,END_YEAR+1):\n",
        "        blob_pathname = \"PrixCarburants_annuel_\" + str(year) + \".zip\"\n",
        "        local_filename = CACHE_DIRECTORY + blob_pathname\n",
        "        download_file(local_filename,blob_pathname,bucket)\n",
        "        zip_ref = ZipFile(local_filename)\n",
        "        [xml_filename] = zip_ref.namelist()\n",
        "        yield (zip_ref.open(xml_filename),year)\n",
        "        zip_ref.close()"
      ],
      "execution_count": 0,
      "outputs": []
    },
    {
      "cell_type": "code",
      "metadata": {
        "id": "h3oi1nTmek8w",
        "colab_type": "code",
        "outputId": "14b92419-7e35-458b-9b29-bc936ba3de9a",
        "colab": {
          "base_uri": "https://localhost:8080/",
          "height": 825
        }
      },
      "source": [
        "for f,year in generator_zip_file(client):\n",
        "    print(f,year)"
      ],
      "execution_count": 15,
      "outputs": [
        {
          "output_type": "stream",
          "text": [
            "INFO:root:Already donwloaded: /tmp/PrixCarburants_annuel_2007.zip\n",
            "DEBUG:urllib3.util.retry:Converted retries value: 3 -> Retry(total=3, connect=None, read=None, redirect=None, status=None)\n",
            "DEBUG:google.auth.transport.requests:Making request: POST https://oauth2.googleapis.com/token\n",
            "DEBUG:urllib3.connectionpool:Starting new HTTPS connection (1): oauth2.googleapis.com:443\n",
            "DEBUG:urllib3.connectionpool:https://oauth2.googleapis.com:443 \"POST /token HTTP/1.1\" 200 None\n",
            "DEBUG:urllib3.connectionpool:Starting new HTTPS connection (1): www.googleapis.com:443\n",
            "DEBUG:urllib3.connectionpool:https://www.googleapis.com:443 \"GET /download/storage/v1/b/essence-dataset-eda/o/PrixCarburants_annuel_2007.zip?alt=media HTTP/1.1\" 200 9348185\n",
            "INFO:root:Already donwloaded: /tmp/PrixCarburants_annuel_2008.zip\n"
          ],
          "name": "stderr"
        },
        {
          "output_type": "stream",
          "text": [
            "<zipfile.ZipExtFile name='PrixCarburants_annuel_2007.xml' mode='r' compress_type=deflate> 2007\n"
          ],
          "name": "stdout"
        },
        {
          "output_type": "stream",
          "text": [
            "DEBUG:urllib3.connectionpool:https://www.googleapis.com:443 \"GET /download/storage/v1/b/essence-dataset-eda/o/PrixCarburants_annuel_2008.zip?alt=media HTTP/1.1\" 200 15525824\n",
            "INFO:root:Already donwloaded: /tmp/PrixCarburants_annuel_2009.zip\n",
            "DEBUG:urllib3.connectionpool:https://www.googleapis.com:443 \"GET /download/storage/v1/b/essence-dataset-eda/o/PrixCarburants_annuel_2009.zip?alt=media HTTP/1.1\" 200 14962469\n"
          ],
          "name": "stderr"
        },
        {
          "output_type": "stream",
          "text": [
            "<zipfile.ZipExtFile name='PrixCarburants_annuel_2008.xml' mode='r' compress_type=deflate> 2008\n"
          ],
          "name": "stdout"
        },
        {
          "output_type": "stream",
          "text": [
            "INFO:root:Already donwloaded: /tmp/PrixCarburants_annuel_2010.zip\n",
            "DEBUG:urllib3.connectionpool:https://www.googleapis.com:443 \"GET /download/storage/v1/b/essence-dataset-eda/o/PrixCarburants_annuel_2010.zip?alt=media HTTP/1.1\" 200 15388391\n"
          ],
          "name": "stderr"
        },
        {
          "output_type": "stream",
          "text": [
            "<zipfile.ZipExtFile name='PrixCarburants_annuel_2009.xml' mode='r' compress_type=deflate> 2009\n"
          ],
          "name": "stdout"
        },
        {
          "output_type": "stream",
          "text": [
            "INFO:root:Already donwloaded: /tmp/PrixCarburants_annuel_2011.zip\n",
            "DEBUG:urllib3.connectionpool:https://www.googleapis.com:443 \"GET /download/storage/v1/b/essence-dataset-eda/o/PrixCarburants_annuel_2011.zip?alt=media HTTP/1.1\" 200 17050489\n"
          ],
          "name": "stderr"
        },
        {
          "output_type": "stream",
          "text": [
            "<zipfile.ZipExtFile name='PrixCarburants_annuel_2010.xml' mode='r' compress_type=deflate> 2010\n"
          ],
          "name": "stdout"
        },
        {
          "output_type": "stream",
          "text": [
            "INFO:root:Already donwloaded: /tmp/PrixCarburants_annuel_2012.zip\n",
            "DEBUG:urllib3.connectionpool:https://www.googleapis.com:443 \"GET /download/storage/v1/b/essence-dataset-eda/o/PrixCarburants_annuel_2012.zip?alt=media HTTP/1.1\" 200 20668580\n"
          ],
          "name": "stderr"
        },
        {
          "output_type": "stream",
          "text": [
            "<zipfile.ZipExtFile name='PrixCarburants_annuel_2011.xml' mode='r' compress_type=deflate> 2011\n"
          ],
          "name": "stdout"
        },
        {
          "output_type": "stream",
          "text": [
            "INFO:root:Already donwloaded: /tmp/PrixCarburants_annuel_2013.zip\n"
          ],
          "name": "stderr"
        },
        {
          "output_type": "stream",
          "text": [
            "<zipfile.ZipExtFile name='PrixCarburants_annuel_2012.xml' mode='r' compress_type=deflate> 2012\n"
          ],
          "name": "stdout"
        },
        {
          "output_type": "stream",
          "text": [
            "DEBUG:urllib3.connectionpool:https://www.googleapis.com:443 \"GET /download/storage/v1/b/essence-dataset-eda/o/PrixCarburants_annuel_2013.zip?alt=media HTTP/1.1\" 200 21811631\n",
            "INFO:root:Already donwloaded: /tmp/PrixCarburants_annuel_2014.zip\n"
          ],
          "name": "stderr"
        },
        {
          "output_type": "stream",
          "text": [
            "<zipfile.ZipExtFile name='PrixCarburants_annuel_2013.xml' mode='r' compress_type=deflate> 2013\n"
          ],
          "name": "stdout"
        },
        {
          "output_type": "stream",
          "text": [
            "DEBUG:urllib3.connectionpool:https://www.googleapis.com:443 \"GET /download/storage/v1/b/essence-dataset-eda/o/PrixCarburants_annuel_2014.zip?alt=media HTTP/1.1\" 200 16034299\n",
            "INFO:root:Already donwloaded: /tmp/PrixCarburants_annuel_2015.zip\n",
            "DEBUG:urllib3.connectionpool:https://www.googleapis.com:443 \"GET /download/storage/v1/b/essence-dataset-eda/o/PrixCarburants_annuel_2015.zip?alt=media HTTP/1.1\" 200 21240234\n"
          ],
          "name": "stderr"
        },
        {
          "output_type": "stream",
          "text": [
            "<zipfile.ZipExtFile name='PrixCarburants_annuel_2014.xml' mode='r' compress_type=deflate> 2014\n"
          ],
          "name": "stdout"
        },
        {
          "output_type": "stream",
          "text": [
            "INFO:root:Already donwloaded: /tmp/PrixCarburants_annuel_2016.zip\n",
            "DEBUG:urllib3.connectionpool:https://www.googleapis.com:443 \"GET /download/storage/v1/b/essence-dataset-eda/o/PrixCarburants_annuel_2016.zip?alt=media HTTP/1.1\" 200 24267384\n"
          ],
          "name": "stderr"
        },
        {
          "output_type": "stream",
          "text": [
            "<zipfile.ZipExtFile name='PrixCarburants_annuel_2015.xml' mode='r' compress_type=deflate> 2015\n"
          ],
          "name": "stdout"
        },
        {
          "output_type": "stream",
          "text": [
            "INFO:root:Already donwloaded: /tmp/PrixCarburants_annuel_2017.zip\n",
            "DEBUG:urllib3.connectionpool:https://www.googleapis.com:443 \"GET /download/storage/v1/b/essence-dataset-eda/o/PrixCarburants_annuel_2017.zip?alt=media HTTP/1.1\" 200 20902664\n"
          ],
          "name": "stderr"
        },
        {
          "output_type": "stream",
          "text": [
            "<zipfile.ZipExtFile name='PrixCarburants_annuel_2016.xml' mode='r' compress_type=deflate> 2016\n"
          ],
          "name": "stdout"
        },
        {
          "output_type": "stream",
          "text": [
            "INFO:root:Already donwloaded: /tmp/PrixCarburants_annuel_2018.zip\n"
          ],
          "name": "stderr"
        },
        {
          "output_type": "stream",
          "text": [
            "<zipfile.ZipExtFile name='PrixCarburants_annuel_2017.xml' mode='r' compress_type=deflate> 2017\n"
          ],
          "name": "stdout"
        },
        {
          "output_type": "stream",
          "text": [
            "DEBUG:urllib3.connectionpool:https://www.googleapis.com:443 \"GET /download/storage/v1/b/essence-dataset-eda/o/PrixCarburants_annuel_2018.zip?alt=media HTTP/1.1\" 200 23033869\n",
            "INFO:root:Already donwloaded: /tmp/PrixCarburants_annuel_2019.zip\n",
            "DEBUG:urllib3.connectionpool:https://www.googleapis.com:443 \"GET /download/storage/v1/b/essence-dataset-eda/o/PrixCarburants_annuel_2019.zip?alt=media HTTP/1.1\" 200 24511070\n"
          ],
          "name": "stderr"
        },
        {
          "output_type": "stream",
          "text": [
            "<zipfile.ZipExtFile name='PrixCarburants_annuel_2018.xml' mode='r' compress_type=deflate> 2018\n",
            "<zipfile.ZipExtFile name='PrixCarburants_annuel_2019.xml' mode='r' compress_type=deflate> 2019\n"
          ],
          "name": "stdout"
        }
      ]
    },
    {
      "cell_type": "code",
      "metadata": {
        "id": "mOCwrrLtiqfz",
        "colab_type": "code",
        "colab": {}
      },
      "source": [
        "df_test = pd.DataFrame(\n",
        "    {\"col1\": [1,2,3],\n",
        "     \"col2\": [4,5,6]}\n",
        ").to_csv(path_or_buf=\"/tmp/test.csv\")"
      ],
      "execution_count": 0,
      "outputs": []
    },
    {
      "cell_type": "code",
      "metadata": {
        "id": "4IAcW8O2iMOR",
        "colab_type": "code",
        "colab": {
          "base_uri": "https://localhost:8080/",
          "height": 35
        },
        "outputId": "c24a04de-bff9-423a-a7b0-bd8a2e2ff397"
      },
      "source": [
        "save_file(\"/tmp/test.csv\",\"test.csv\", client_gcs.bucket(BUCKET_PERSONAL))"
      ],
      "execution_count": 17,
      "outputs": [
        {
          "output_type": "stream",
          "text": [
            "DEBUG:urllib3.connectionpool:https://www.googleapis.com:443 \"POST /upload/storage/v1/b/eda-essence-vincent/o?uploadType=multipart HTTP/1.1\" 200 743\n"
          ],
          "name": "stderr"
        }
      ]
    },
    {
      "cell_type": "code",
      "metadata": {
        "id": "hXyQSgVujfDo",
        "colab_type": "code",
        "colab": {
          "base_uri": "https://localhost:8080/",
          "height": 35
        },
        "outputId": "e6248823-827b-4653-89d0-cd08460444c0"
      },
      "source": [
        "download_file(\"/tmp/test2.csv\",\"test.csv\", client_gcs.bucket(BUCKET_PERSONAL))"
      ],
      "execution_count": 18,
      "outputs": [
        {
          "output_type": "stream",
          "text": [
            "DEBUG:urllib3.connectionpool:https://www.googleapis.com:443 \"GET /download/storage/v1/b/eda-essence-vincent/o/test.csv?alt=media HTTP/1.1\" 200 29\n"
          ],
          "name": "stderr"
        }
      ]
    },
    {
      "cell_type": "code",
      "metadata": {
        "id": "UPc1pFsxj0N8",
        "colab_type": "code",
        "colab": {}
      },
      "source": [
        "import filecmp\n",
        "assert filecmp.cmp('/tmp/test.csv', '/tmp/test2.csv')"
      ],
      "execution_count": 0,
      "outputs": []
    }
  ]
}